{
 "cells": [
  {
   "cell_type": "markdown",
   "id": "1637111c",
   "metadata": {},
   "source": [
    "# Assignment 2"
   ]
  },
  {
   "cell_type": "markdown",
   "id": "1cd322f3",
   "metadata": {},
   "source": [
    "Operator overloading for: Arithmetic and relational operator"
   ]
  },
  {
   "cell_type": "code",
   "execution_count": 1,
   "id": "8457ed8b",
   "metadata": {},
   "outputs": [
    {
     "name": "stdout",
     "output_type": "stream",
     "text": [
      "v1: (3, 4)\n",
      "v2: (1, 2)\n",
      "Addition: (4, 6)\n",
      "Subtraction: (2, 2)\n",
      "v1 * 2: (6, 8)\n",
      "2 * v2: (2, 4)\n",
      "v1 / 2: (1.5, 2.0)\n",
      "Dot product: 11\n",
      "v1 magnitude: 5.0\n",
      "v2 magnitude: 2.23606797749979\n",
      "v1 direction: 53.13010235415598\n",
      "v2 direction: 63.43494882292201\n",
      "v1 == v2? False\n",
      "v1 != v2? True\n",
      "v1 > v2? True\n",
      "v1 < v2? False\n",
      "v1 normalized: (0.6, 0.8)\n",
      "Distance between v1 and v2: 2.8284271247461903\n"
     ]
    }
   ],
   "source": [
    "import math\n",
    "\n",
    "class Vector2D:\n",
    "    def __init__(self, x=0, y=0):\n",
    "        self.x = x\n",
    "        self.y = y\n",
    "    def __str__(self):\n",
    "        return f\"({self.x}, {self.y})\"\n",
    "    def __add__(self, other):\n",
    "        return Vector2D(self.x + other.x, self.y + other.y)\n",
    "    def __sub__(self, other):\n",
    "        return Vector2D(self.x - other.x, self.y - other.y)\n",
    "    def __mul__(self, scalar):\n",
    "        if isinstance(scalar, (int, float)):\n",
    "            return Vector2D(self.x * scalar, self.y * scalar)\n",
    "        raise TypeError(\"Multiplication only supports a scalar (int or float).\")\n",
    "    def __rmul__(self, scalar):\n",
    "        return self.__mul__(scalar)\n",
    "    def __truediv__(self, scalar):\n",
    "        if scalar == 0:\n",
    "            raise ValueError(\"Cannot divide by zero.\")\n",
    "        return Vector2D(self.x / scalar, self.y / scalar)\n",
    "    def __matmul__(self, other):\n",
    "        return self.x * other.x + self.y * other.y\n",
    "    def magnitude(self):\n",
    "        return math.sqrt(self.x**2 + self.y**2)\n",
    "    def __eq__(self, other):\n",
    "        return self.magnitude() == other.magnitude()\n",
    "    def __ne__(self, other):\n",
    "        return self.magnitude() != other.magnitude()\n",
    "    def __lt__(self, other):\n",
    "        return self.magnitude() < other.magnitude()\n",
    "    def __le__(self, other):\n",
    "        return self.magnitude() <= other.magnitude()\n",
    "    def __gt__(self, other):\n",
    "        return self.magnitude() > other.magnitude()\n",
    "    def __ge__(self, other):\n",
    "        return self.magnitude() >= other.magnitude()\n",
    "    def direction(self):\n",
    "        return math.degrees(math.atan2(self.y, self.x))\n",
    "    def normalize(self):\n",
    "        mag = self.magnitude()\n",
    "        if mag == 0:\n",
    "            return Vector2D(0, 0)\n",
    "        return Vector2D(self.x / mag, self.y / mag)\n",
    "    def distance_to(self, other):\n",
    "        return math.sqrt((self.x - other.x)**2 + (self.y - other.y)**2)\n",
    "\n",
    "\n",
    "v1 = Vector2D(3, 4)\n",
    "v2 = Vector2D(1, 2)\n",
    "\n",
    "print(\"v1:\", v1)\n",
    "print(\"v2:\", v2)\n",
    "print(\"Addition:\", v1 + v2)\n",
    "print(\"Subtraction:\", v1 - v2)\n",
    "print(\"v1 * 2:\", v1 * 2)\n",
    "print(\"2 * v2:\", 2 * v2)\n",
    "print(\"v1 / 2:\", v1 / 2)\n",
    "print(\"Dot product:\", v1 @ v2)\n",
    "\n",
    "print(\"v1 magnitude:\", v1.magnitude())\n",
    "print(\"v2 magnitude:\", v2.magnitude())\n",
    "print(\"v1 direction:\", v1.direction())\n",
    "print(\"v2 direction:\", v2.direction())\n",
    "\n",
    "print(\"v1 == v2?\", v1 == v2)\n",
    "print(\"v1 != v2?\", v1 != v2)\n",
    "print(\"v1 > v2?\", v1 > v2)\n",
    "print(\"v1 < v2?\", v1 < v2)\n",
    "print(\"v1 normalized:\", v1.normalize())\n",
    "print(\"Distance between v1 and v2:\", v1.distance_to(v2))"
   ]
  }
 ],
 "metadata": {
  "kernelspec": {
   "display_name": ".venv",
   "language": "python",
   "name": "python3"
  },
  "language_info": {
   "codemirror_mode": {
    "name": "ipython",
    "version": 3
   },
   "file_extension": ".py",
   "mimetype": "text/x-python",
   "name": "python",
   "nbconvert_exporter": "python",
   "pygments_lexer": "ipython3",
   "version": "3.12.3"
  }
 },
 "nbformat": 4,
 "nbformat_minor": 5
}
