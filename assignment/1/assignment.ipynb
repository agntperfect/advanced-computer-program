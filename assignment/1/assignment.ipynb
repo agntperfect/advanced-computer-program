{
 "cells": [
  {
   "cell_type": "markdown",
   "id": "588a0c92",
   "metadata": {},
   "source": [
    "# Python Built-in Methods Assignment\n",
    "**Name:** Abhishek Kharel  \n",
    "**Roll No:** 081BEL005  \n",
    "**Date:** July 1, 2025"
   ]
  },
  {
   "cell_type": "markdown",
   "id": "8c1d02ee",
   "metadata": {},
   "source": [
    "## String Methods"
   ]
  },
  {
   "cell_type": "markdown",
   "id": "d056603a",
   "metadata": {},
   "source": [
    "### Method: `upper`"
   ]
  },
  {
   "cell_type": "code",
   "execution_count": 2,
   "id": "6bce8140",
   "metadata": {},
   "outputs": [
    {
     "name": "stdout",
     "output_type": "stream",
     "text": [
      "HELLO WORLD\n"
     ]
    }
   ],
   "source": [
    "text = \"hello world\"\n",
    "upper_text = text.upper()\n",
    "print(upper_text)"
   ]
  },
  {
   "cell_type": "markdown",
   "id": "9aab1280",
   "metadata": {},
   "source": [
    "**Expected Output:**\n",
    "```\n",
    "HELLO WORLD\n",
    "```"
   ]
  },
  {
   "cell_type": "markdown",
   "id": "9e47d9f7",
   "metadata": {},
   "source": [
    "### Method: `lower`"
   ]
  },
  {
   "cell_type": "code",
   "execution_count": 3,
   "id": "77f414c6",
   "metadata": {},
   "outputs": [
    {
     "name": "stdout",
     "output_type": "stream",
     "text": [
      "hello world\n"
     ]
    }
   ],
   "source": [
    "text = \"HELLO WORLD\"\n",
    "lower_text = text.lower()\n",
    "print(lower_text)"
   ]
  },
  {
   "cell_type": "markdown",
   "id": "9b43792e",
   "metadata": {},
   "source": [
    "**Expected Output:**\n",
    "```\n",
    "hello world\n",
    "```"
   ]
  },
  {
   "cell_type": "markdown",
   "id": "e28ec010",
   "metadata": {},
   "source": [
    "### Method: `strip`"
   ]
  },
  {
   "cell_type": "code",
   "execution_count": 4,
   "id": "b934044b",
   "metadata": {},
   "outputs": [
    {
     "name": "stdout",
     "output_type": "stream",
     "text": [
      "'some spaces'\n"
     ]
    }
   ],
   "source": [
    "text = \"   some spaces   \"\n",
    "stripped_text = text.strip()\n",
    "print(f\"'{stripped_text}'\")"
   ]
  },
  {
   "cell_type": "markdown",
   "id": "6220da70",
   "metadata": {},
   "source": [
    "**Expected Output:**\n",
    "```\n",
    "'some spaces'\n",
    "```"
   ]
  },
  {
   "cell_type": "markdown",
   "id": "0033b8e7",
   "metadata": {},
   "source": [
    "### Method: `split`"
   ]
  },
  {
   "cell_type": "code",
   "execution_count": 5,
   "id": "f0150064",
   "metadata": {},
   "outputs": [
    {
     "name": "stdout",
     "output_type": "stream",
     "text": [
      "['apple', 'banana', 'cherry']\n"
     ]
    }
   ],
   "source": [
    "text = \"apple,banana,cherry\"\n",
    "fruits = text.split(',')\n",
    "print(fruits)"
   ]
  },
  {
   "cell_type": "markdown",
   "id": "23644eab",
   "metadata": {},
   "source": [
    "**Expected Output:**\n",
    "```\n",
    "['apple', 'banana', 'cherry']\n",
    "```"
   ]
  },
  {
   "cell_type": "markdown",
   "id": "bdea5d6d",
   "metadata": {},
   "source": [
    "### Method: `join`"
   ]
  },
  {
   "cell_type": "code",
   "execution_count": 6,
   "id": "cdc885c5",
   "metadata": {},
   "outputs": [
    {
     "name": "stdout",
     "output_type": "stream",
     "text": [
      "Hello World\n"
     ]
    }
   ],
   "source": [
    "words = ['Hello', 'World']\n",
    "sentence = ' '.join(words)\n",
    "print(sentence)"
   ]
  },
  {
   "cell_type": "markdown",
   "id": "c9d4bd83",
   "metadata": {},
   "source": [
    "**Expected Output:**\n",
    "```\n",
    "Hello World\n",
    "```"
   ]
  },
  {
   "cell_type": "markdown",
   "id": "1912fe15",
   "metadata": {},
   "source": [
    "### Method: `replace`"
   ]
  },
  {
   "cell_type": "code",
   "execution_count": 7,
   "id": "f1214f61",
   "metadata": {},
   "outputs": [
    {
     "name": "stdout",
     "output_type": "stream",
     "text": [
      "I like dogs.\n"
     ]
    }
   ],
   "source": [
    "text = \"I like cats.\"\n",
    "new_text = text.replace(\"cats\", \"dogs\")\n",
    "print(new_text)"
   ]
  },
  {
   "cell_type": "markdown",
   "id": "da88d1c9",
   "metadata": {},
   "source": [
    "**Expected Output:**\n",
    "```\n",
    "I like dogs.\n",
    "```"
   ]
  },
  {
   "cell_type": "markdown",
   "id": "41777277",
   "metadata": {},
   "source": [
    "### Method: `find`"
   ]
  },
  {
   "cell_type": "code",
   "execution_count": 8,
   "id": "93a1f1a5",
   "metadata": {},
   "outputs": [
    {
     "name": "stdout",
     "output_type": "stream",
     "text": [
      "7\n"
     ]
    }
   ],
   "source": [
    "text = \"Hello, welcome to my world.\"\n",
    "position = text.find(\"welcome\")\n",
    "print(position)"
   ]
  },
  {
   "cell_type": "markdown",
   "id": "88d7388e",
   "metadata": {},
   "source": [
    "**Expected Output:**\n",
    "```\n",
    "7\n",
    "```"
   ]
  },
  {
   "cell_type": "markdown",
   "id": "2774d550",
   "metadata": {},
   "source": [
    "## List Methods"
   ]
  },
  {
   "cell_type": "markdown",
   "id": "051e4d06",
   "metadata": {},
   "source": [
    "### Method: `append`"
   ]
  },
  {
   "cell_type": "code",
   "execution_count": 9,
   "id": "584d9baa",
   "metadata": {},
   "outputs": [
    {
     "name": "stdout",
     "output_type": "stream",
     "text": [
      "['apple', 'banana', 'cherry']\n"
     ]
    }
   ],
   "source": [
    "fruits = ['apple', 'banana']\n",
    "fruits.append('cherry')\n",
    "print(fruits)"
   ]
  },
  {
   "cell_type": "markdown",
   "id": "ca532b69",
   "metadata": {},
   "source": [
    "**Expected Output:**\n",
    "```\n",
    "['apple', 'banana', 'cherry']\n",
    "```"
   ]
  },
  {
   "cell_type": "markdown",
   "id": "af8ae176",
   "metadata": {},
   "source": [
    "### Method: `extend`"
   ]
  },
  {
   "cell_type": "code",
   "execution_count": 10,
   "id": "a8b7a553",
   "metadata": {},
   "outputs": [
    {
     "name": "stdout",
     "output_type": "stream",
     "text": [
      "[1, 2, 3, 4, 5, 6]\n"
     ]
    }
   ],
   "source": [
    "list1 = [1, 2, 3]\n",
    "list2 = [4, 5, 6]\n",
    "list1.extend(list2)\n",
    "print(list1)"
   ]
  },
  {
   "cell_type": "markdown",
   "id": "03d095d3",
   "metadata": {},
   "source": [
    "**Expected Output:**\n",
    "```\n",
    "[1, 2, 3, 4, 5, 6]\n",
    "```"
   ]
  },
  {
   "cell_type": "markdown",
   "id": "7e1bd9e0",
   "metadata": {},
   "source": [
    "### Method: `insert`"
   ]
  },
  {
   "cell_type": "code",
   "execution_count": 11,
   "id": "7366ae2b",
   "metadata": {},
   "outputs": [
    {
     "name": "stdout",
     "output_type": "stream",
     "text": [
      "['apple', 'banana', 'cherry']\n"
     ]
    }
   ],
   "source": [
    "fruits = ['apple', 'cherry']\n",
    "fruits.insert(1, 'banana')\n",
    "print(fruits)"
   ]
  },
  {
   "cell_type": "markdown",
   "id": "0e411210",
   "metadata": {},
   "source": [
    "**Expected Output:**\n",
    "```\n",
    "['apple', 'banana', 'cherry']\n",
    "```"
   ]
  },
  {
   "cell_type": "markdown",
   "id": "ddda9699",
   "metadata": {},
   "source": [
    "### Method: `pop`"
   ]
  },
  {
   "cell_type": "code",
   "execution_count": 12,
   "id": "bd24ba32",
   "metadata": {},
   "outputs": [
    {
     "name": "stdout",
     "output_type": "stream",
     "text": [
      "Popped: 3, Remaining List: [1, 2, 4]\n"
     ]
    }
   ],
   "source": [
    "numbers = [1, 2, 3, 4]\n",
    "popped_element = numbers.pop(2)\n",
    "print(f\"Popped: {popped_element}, Remaining List: {numbers}\")"
   ]
  },
  {
   "cell_type": "markdown",
   "id": "a02ebb36",
   "metadata": {},
   "source": [
    "**Expected Output:**\n",
    "```\n",
    "Popped: 3, Remaining List: [1, 2, 4]\n",
    "```"
   ]
  },
  {
   "cell_type": "markdown",
   "id": "53c0ea92",
   "metadata": {},
   "source": [
    "### Method: `sort`"
   ]
  },
  {
   "cell_type": "code",
   "execution_count": 13,
   "id": "361caad8",
   "metadata": {},
   "outputs": [
    {
     "name": "stdout",
     "output_type": "stream",
     "text": [
      "[1, 2, 3, 4]\n"
     ]
    }
   ],
   "source": [
    "numbers = [3, 1, 4, 2]\n",
    "numbers.sort()\n",
    "print(numbers)"
   ]
  },
  {
   "cell_type": "markdown",
   "id": "0de8b2e0",
   "metadata": {},
   "source": [
    "**Expected Output:**\n",
    "```\n",
    "[1, 2, 3, 4]\n",
    "```"
   ]
  },
  {
   "cell_type": "markdown",
   "id": "e7ea42c0",
   "metadata": {},
   "source": [
    "## Tuple Methods"
   ]
  },
  {
   "cell_type": "markdown",
   "id": "cd928cb4",
   "metadata": {},
   "source": [
    "### Method: `count`"
   ]
  },
  {
   "cell_type": "code",
   "execution_count": 14,
   "id": "05fd29c5",
   "metadata": {},
   "outputs": [
    {
     "name": "stdout",
     "output_type": "stream",
     "text": [
      "3\n"
     ]
    }
   ],
   "source": [
    "my_tuple = (1, 2, 3, 2, 4, 2)\n",
    "count_of_2 = my_tuple.count(2)\n",
    "print(count_of_2)"
   ]
  },
  {
   "cell_type": "markdown",
   "id": "efcfe434",
   "metadata": {},
   "source": [
    "**Expected Output:**\n",
    "```\n",
    "3\n",
    "```"
   ]
  },
  {
   "cell_type": "markdown",
   "id": "e53fea0e",
   "metadata": {},
   "source": [
    "### Method: `index`"
   ]
  },
  {
   "cell_type": "code",
   "execution_count": 15,
   "id": "d2c094d7",
   "metadata": {},
   "outputs": [
    {
     "name": "stdout",
     "output_type": "stream",
     "text": [
      "2\n"
     ]
    }
   ],
   "source": [
    "my_tuple = ('a', 'b', 'c', 'd')\n",
    "index_of_c = my_tuple.index('c')\n",
    "print(index_of_c)"
   ]
  },
  {
   "cell_type": "markdown",
   "id": "68a16f33",
   "metadata": {},
   "source": [
    "**Expected Output:**\n",
    "```\n",
    "2\n",
    "```"
   ]
  },
  {
   "cell_type": "markdown",
   "id": "fce088d1",
   "metadata": {},
   "source": [
    "## Set Methods"
   ]
  },
  {
   "cell_type": "markdown",
   "id": "b1b15fb1",
   "metadata": {},
   "source": [
    "### Method: `add`"
   ]
  },
  {
   "cell_type": "code",
   "execution_count": 16,
   "id": "a1e9eb7f",
   "metadata": {},
   "outputs": [
    {
     "name": "stdout",
     "output_type": "stream",
     "text": [
      "{1, 2, 3, 4}\n"
     ]
    }
   ],
   "source": [
    "my_set = {1, 2, 3}\n",
    "my_set.add(4)\n",
    "print(my_set)"
   ]
  },
  {
   "cell_type": "markdown",
   "id": "7df40b87",
   "metadata": {},
   "source": [
    "**Expected Output:**\n",
    "```\n",
    "{1, 2, 3, 4}\n",
    "```"
   ]
  },
  {
   "cell_type": "markdown",
   "id": "1a6ea404",
   "metadata": {},
   "source": [
    "### Method: `update`"
   ]
  },
  {
   "cell_type": "code",
   "execution_count": 17,
   "id": "e868010b",
   "metadata": {},
   "outputs": [
    {
     "name": "stdout",
     "output_type": "stream",
     "text": [
      "{'a', 'c', 'b'}\n"
     ]
    }
   ],
   "source": [
    "set1 = {'a', 'b'}\n",
    "set2 = ['b', 'c']\n",
    "set1.update(set2)\n",
    "print(set1)"
   ]
  },
  {
   "cell_type": "markdown",
   "id": "28b25cfd",
   "metadata": {},
   "source": [
    "**Expected Output:**\n",
    "```\n",
    "{'a', 'b', 'c'}\n",
    "```"
   ]
  },
  {
   "cell_type": "markdown",
   "id": "f84e5941",
   "metadata": {},
   "source": [
    "### Method: `remove`"
   ]
  },
  {
   "cell_type": "code",
   "execution_count": 18,
   "id": "0df6bcc7",
   "metadata": {},
   "outputs": [
    {
     "name": "stdout",
     "output_type": "stream",
     "text": [
      "{1, 3}\n"
     ]
    }
   ],
   "source": [
    "my_set = {1, 2, 3}\n",
    "my_set.remove(2)\n",
    "print(my_set)"
   ]
  },
  {
   "cell_type": "markdown",
   "id": "0badd6af",
   "metadata": {},
   "source": [
    "**Expected Output:**\n",
    "```\n",
    "{1, 3}\n",
    "```"
   ]
  },
  {
   "cell_type": "markdown",
   "id": "9748faa2",
   "metadata": {},
   "source": [
    "### Method: `union`"
   ]
  },
  {
   "cell_type": "code",
   "execution_count": 19,
   "id": "1aee50cd",
   "metadata": {},
   "outputs": [
    {
     "name": "stdout",
     "output_type": "stream",
     "text": [
      "{1, 2, 3, 4, 5}\n"
     ]
    }
   ],
   "source": [
    "set1 = {1, 2, 3}\n",
    "set2 = {3, 4, 5}\n",
    "union_set = set1.union(set2)\n",
    "print(union_set)"
   ]
  },
  {
   "cell_type": "markdown",
   "id": "16483c09",
   "metadata": {},
   "source": [
    "**Expected Output:**\n",
    "```\n",
    "{1, 2, 3, 4, 5}\n",
    "```"
   ]
  },
  {
   "cell_type": "markdown",
   "id": "6df8377b",
   "metadata": {},
   "source": [
    "### Method: `intersection`"
   ]
  },
  {
   "cell_type": "code",
   "execution_count": 20,
   "id": "3d189fd0",
   "metadata": {},
   "outputs": [
    {
     "name": "stdout",
     "output_type": "stream",
     "text": [
      "{3}\n"
     ]
    }
   ],
   "source": [
    "set1 = {1, 2, 3}\n",
    "set2 = {3, 4, 5}\n",
    "intersection_set = set1.intersection(set2)\n",
    "print(intersection_set)"
   ]
  },
  {
   "cell_type": "markdown",
   "id": "52897464",
   "metadata": {},
   "source": [
    "**Expected Output:**\n",
    "```\n",
    "{3}\n",
    "```"
   ]
  },
  {
   "cell_type": "markdown",
   "id": "4f1dfe11",
   "metadata": {},
   "source": [
    "## Dictionary Methods"
   ]
  },
  {
   "cell_type": "markdown",
   "id": "3d22867e",
   "metadata": {},
   "source": [
    "### Method: `keys`"
   ]
  },
  {
   "cell_type": "code",
   "execution_count": 21,
   "id": "c427e0c6",
   "metadata": {},
   "outputs": [
    {
     "name": "stdout",
     "output_type": "stream",
     "text": [
      "dict_keys(['name', 'age'])\n"
     ]
    }
   ],
   "source": [
    "person = {'name': 'Abhishek', 'age': 20}\n",
    "keys = person.keys()\n",
    "print(keys)"
   ]
  },
  {
   "cell_type": "markdown",
   "id": "2e228bfc",
   "metadata": {},
   "source": [
    "**Expected Output:**\n",
    "```\n",
    "dict_keys(['name', 'age'])\n",
    "```"
   ]
  },
  {
   "cell_type": "markdown",
   "id": "e3edd68a",
   "metadata": {},
   "source": [
    "### Method: `values`"
   ]
  },
  {
   "cell_type": "code",
   "execution_count": 22,
   "id": "df482b6e",
   "metadata": {},
   "outputs": [
    {
     "name": "stdout",
     "output_type": "stream",
     "text": [
      "dict_values(['Abhishek', 20])\n"
     ]
    }
   ],
   "source": [
    "person = {'name': 'Abhishek', 'age': 20}\n",
    "values = person.values()\n",
    "print(values)"
   ]
  },
  {
   "cell_type": "markdown",
   "id": "fe598630",
   "metadata": {},
   "source": [
    "**Expected Output:**\n",
    "```\n",
    "dict_values(['Abhishek', 20])\n",
    "```"
   ]
  },
  {
   "cell_type": "markdown",
   "id": "9d7377d0",
   "metadata": {},
   "source": [
    "### Method: `items`"
   ]
  },
  {
   "cell_type": "code",
   "execution_count": 23,
   "id": "2652e851",
   "metadata": {},
   "outputs": [
    {
     "name": "stdout",
     "output_type": "stream",
     "text": [
      "dict_items([('name', 'Abhishek'), ('age', 20)])\n"
     ]
    }
   ],
   "source": [
    "person = {'name': 'Abhishek', 'age': 20}\n",
    "items = person.items()\n",
    "print(items)"
   ]
  },
  {
   "cell_type": "markdown",
   "id": "39b52c12",
   "metadata": {},
   "source": [
    "**Expected Output:**\n",
    "```\n",
    "dict_items([('name', 'Abhishek'), ('age', 25)])\n",
    "```"
   ]
  },
  {
   "cell_type": "markdown",
   "id": "edb0e720",
   "metadata": {},
   "source": [
    "### Method: `get`"
   ]
  },
  {
   "cell_type": "code",
   "execution_count": 24,
   "id": "89aed499",
   "metadata": {},
   "outputs": [
    {
     "name": "stdout",
     "output_type": "stream",
     "text": [
      "Alice\n"
     ]
    }
   ],
   "source": [
    "person = {'name': 'Alice', 'age': 25}\n",
    "name = person.get('name')\n",
    "print(name)"
   ]
  },
  {
   "cell_type": "markdown",
   "id": "e009a706",
   "metadata": {},
   "source": [
    "**Expected Output:**\n",
    "```\n",
    "Alice\n",
    "```"
   ]
  },
  {
   "cell_type": "markdown",
   "id": "93e589a0",
   "metadata": {},
   "source": [
    "### Method: `update`"
   ]
  },
  {
   "cell_type": "code",
   "execution_count": 25,
   "id": "2f24f43d",
   "metadata": {},
   "outputs": [
    {
     "name": "stdout",
     "output_type": "stream",
     "text": [
      "{'name': 'Abhishek', 'age': 20, 'city': 'New Baneshwor'}\n"
     ]
    }
   ],
   "source": [
    "person = {'name': 'Abhishek', 'age': 20}\n",
    "person.update({'city': 'New Baneshwor'})\n",
    "print(person)"
   ]
  },
  {
   "cell_type": "markdown",
   "id": "c51c3085",
   "metadata": {},
   "source": [
    "**Expected Output:**\n",
    "```\n",
    "{'name': 'Abhishek', 'age': 20, 'city': 'New Baneshwor'}\n",
    "```"
   ]
  }
 ],
 "metadata": {
  "kernelspec": {
   "display_name": ".venv",
   "language": "python",
   "name": "python3"
  },
  "language_info": {
   "codemirror_mode": {
    "name": "ipython",
    "version": 3
   },
   "file_extension": ".py",
   "mimetype": "text/x-python",
   "name": "python",
   "nbconvert_exporter": "python",
   "pygments_lexer": "ipython3",
   "version": "3.12.3"
  }
 },
 "nbformat": 4,
 "nbformat_minor": 5
}
