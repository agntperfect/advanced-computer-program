{
 "cells": [
  {
   "cell_type": "markdown",
   "id": "a2e28b98",
   "metadata": {},
   "source": [
    "# Lab 7"
   ]
  }
 ],
 "metadata": {
  "language_info": {
   "name": "python"
  }
 },
 "nbformat": 4,
 "nbformat_minor": 5
}
