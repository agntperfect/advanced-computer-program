{
 "cells": [
  {
   "cell_type": "markdown",
   "id": "9b24eae9",
   "metadata": {},
   "source": [
    "# Lab 2"
   ]
  },
  {
   "cell_type": "markdown",
   "id": "d5db92f6",
   "metadata": {},
   "source": [
    "## User Defined Function"
   ]
  },
  {
   "cell_type": "markdown",
   "id": "454fde0f",
   "metadata": {},
   "source": [
    "1. Write a program to input n numbers and store them in a list. Then perform the following\n",
    "operations: \n",
    "i) Using built in functions \n",
    "ii) without using built-in functions:\n",
    "a. Find the maximum and minimum number\n",
    "b. Sort the list in ascending order\n",
    "c. Remove duplicate elements"
   ]
  },
  {
   "cell_type": "code",
   "execution_count": 1,
   "id": "080fa2e5",
   "metadata": {},
   "outputs": [
    {
     "name": "stdout",
     "output_type": "stream",
     "text": [
      "Enter the numbers:\n",
      "\n",
      "Original List: [78, 22, 44, 55, 66]\n",
      "\n",
      "--- Using Built-in Functions ---\n",
      "Maximum: 78\n",
      "Minimum: 22\n",
      "Sorted List: [22, 44, 55, 66, 78]\n",
      "List without duplicates: [66, 44, 78, 22, 55]\n",
      "\n",
      "--- Without Using Built-in Functions ---\n",
      "Maximum: 78\n",
      "Minimum: 22\n",
      "Sorted List: [22, 44, 55, 66, 78]\n",
      "List without duplicates: [78, 22, 44, 55, 66]\n"
     ]
    }
   ],
   "source": [
    "# Q.No.1: Write a program to input n numbers and store them in a list. Then perform the following operations:\n",
    "# i) Find max, min, sorted list, and remove duplicates using built-in functions.\n",
    "# ii) Perform the same operations without using any built-in functions.\n",
    "\n",
    "def input_numbers():\n",
    "    n = int(input(\"Enter the number of elements: \"))\n",
    "    numbers = []\n",
    "    print(\"Enter the numbers:\")\n",
    "    for _ in range(n):\n",
    "        numbers.append(int(input()))\n",
    "    return numbers\n",
    "\n",
    "# Using built-in functions\n",
    "def using_builtins(numbers):\n",
    "    print(\"\\n--- Using Built-in Functions ---\")\n",
    "    print(\"Maximum:\", max(numbers))\n",
    "    print(\"Minimum:\", min(numbers))\n",
    "    print(\"Sorted List:\", sorted(numbers))\n",
    "    print(\"List without duplicates:\", list(set(numbers)))\n",
    "\n",
    "# Without using built-in functions\n",
    "def find_max_min(numbers):\n",
    "    max_num = numbers[0]\n",
    "    min_num = numbers[0]\n",
    "    for num in numbers:\n",
    "        if num > max_num:\n",
    "            max_num = num\n",
    "        if num < min_num:\n",
    "            min_num = num\n",
    "    return max_num, min_num\n",
    "\n",
    "def bubble_sort(numbers):\n",
    "    sorted_list = numbers[:]\n",
    "    for i in range(len(sorted_list)):\n",
    "        for j in range(0, len(sorted_list) - i - 1):\n",
    "            if sorted_list[j] > sorted_list[j + 1]:\n",
    "                sorted_list[j], sorted_list[j + 1] = sorted_list[j + 1], sorted_list[j]\n",
    "    return sorted_list\n",
    "\n",
    "def remove_duplicates(numbers):\n",
    "    unique_list = []\n",
    "    for num in numbers:\n",
    "        if num not in unique_list:\n",
    "            unique_list.append(num)\n",
    "    return unique_list\n",
    "\n",
    "def without_builtins(numbers):\n",
    "    print(\"\\n--- Without Using Built-in Functions ---\")\n",
    "    max_val, min_val = find_max_min(numbers)\n",
    "    print(\"Maximum:\", max_val)\n",
    "    print(\"Minimum:\", min_val)\n",
    "    print(\"Sorted List:\", bubble_sort(numbers))\n",
    "    print(\"List without duplicates:\", remove_duplicates(numbers))\n",
    "\n",
    "def main():\n",
    "    numbers = input_numbers()\n",
    "    print(\"\\nOriginal List:\", numbers)\n",
    "    using_builtins(numbers)\n",
    "    without_builtins(numbers)\n",
    "\n",
    "main()"
   ]
  },
  {
   "cell_type": "markdown",
   "id": "36606d64",
   "metadata": {},
   "source": [
    "2. Given two lists of integers, write a program to merge them into a single list and then remove the elements that are common in both."
   ]
  },
  {
   "cell_type": "code",
   "execution_count": 1,
   "id": "757c6c26",
   "metadata": {},
   "outputs": [
    {
     "name": "stdout",
     "output_type": "stream",
     "text": [
      "Enter elements of List 1 separated by space:  [1, 2, 3, 4, 5]\n",
      "Enter elements of List 2 separated by space:  [4, 5, 6, 7, 8]\n",
      "Merged list without common elements: [1, 2, 3, 6, 7, 8]\n"
     ]
    }
   ],
   "source": [
    "# Q.no.2 Given two lists of integers, write a program to merge them into a single list and then remove the elements that are common in both.\n",
    "def get_list(prompt):\n",
    "    lst = list(map(int, input(prompt).split()))\n",
    "    print(f\"{prompt} {lst}\")\n",
    "    return lst\n",
    "\n",
    "def find_common_elements(l1, l2):\n",
    "    common = []\n",
    "    for i in l1:\n",
    "        if i in l2 and i not in common:\n",
    "            common.append(i)\n",
    "    return common\n",
    "\n",
    "def remove_common_and_merge(l1, l2, common):\n",
    "    merged = l1 + l2\n",
    "    result = []\n",
    "    for item in merged:\n",
    "        if item not in common:\n",
    "            result.append(item)\n",
    "    return result\n",
    "\n",
    "def main():\n",
    "    list1 = get_list(\"Enter elements of List 1 separated by space: \")\n",
    "    list2 = get_list(\"Enter elements of List 2 separated by space: \")\n",
    "    common = find_common_elements(list1, list2)\n",
    "    result = remove_common_and_merge(list1, list2, common)\n",
    "    print(\"Merged list without common elements:\", result)\n",
    "\n",
    "main()"
   ]
  },
  {
   "cell_type": "markdown",
   "id": "5d2d2199",
   "metadata": {},
   "source": [
    "3. Create a program that reads a sentence from the user and stores each word as an element of a list. Then count the frequency of each word using only lists."
   ]
  },
  {
   "cell_type": "code",
   "execution_count": 3,
   "id": "bd072904",
   "metadata": {},
   "outputs": [
    {
     "name": "stdout",
     "output_type": "stream",
     "text": [
      "Input sentence: Ram and Shyam went to school and Ram played football\n",
      "Ram: 2\n",
      "and: 2\n",
      "Shyam: 1\n",
      "went: 1\n",
      "to: 1\n",
      "school: 1\n",
      "played: 1\n",
      "football: 1\n"
     ]
    }
   ],
   "source": [
    "# Q.No.3: Create a program that reads a sentence from the user and stores each word\n",
    "# as an element of a list. Then count the frequency of each word using only lists and '='.\n",
    "\n",
    "def get_words():\n",
    "    sentence = input(\"Enter a sentence: \")\n",
    "    print(\"Input sentence:\", sentence)\n",
    "    return sentence.split()\n",
    "\n",
    "def count_word_frequencies(words):\n",
    "    unique_words = []\n",
    "    counts = []\n",
    "\n",
    "    for word in words:\n",
    "        found = False\n",
    "        for i in range(len(unique_words)):\n",
    "            if word == unique_words[i]:\n",
    "                counts[i] = counts[i] + 1\n",
    "                found = True\n",
    "                break\n",
    "        if not found:\n",
    "            unique_words = unique_words + [word]\n",
    "            counts = counts + [1]\n",
    "\n",
    "    return unique_words, counts\n",
    "\n",
    "def display_frequencies(unique_words, counts):\n",
    "    for i in range(len(unique_words)):\n",
    "        print(f\"{unique_words[i]}: {counts[i]}\")\n",
    "\n",
    "def main():\n",
    "    words = get_words()\n",
    "    unique_words, counts = count_word_frequencies(words)\n",
    "    display_frequencies(unique_words, counts)\n",
    "\n",
    "main()"
   ]
  },
  {
   "cell_type": "markdown",
   "id": "d42fde25",
   "metadata": {},
   "source": [
    "4. Write a program to simulate a basic stack and queue using a list. Provide options to push, pop (stack), enqueue, and dequeue (queue)."
   ]
  },
  {
   "cell_type": "code",
   "execution_count": 4,
   "id": "dbf786f0",
   "metadata": {},
   "outputs": [
    {
     "name": "stdout",
     "output_type": "stream",
     "text": [
      "\n",
      "Menu:\n",
      "1. Push (Stack)\n",
      "2. Pop (Stack)\n",
      "3. Enqueue (Queue)\n",
      "4. Dequeue (Queue)\n",
      "5. Display Stack and Queue\n",
      "6. Exit\n",
      "Input: Ram\n",
      "Input for push (stack): Ram\n",
      "Pushed 'Ram' into stack.\n",
      "\n",
      "Menu:\n",
      "1. Push (Stack)\n",
      "2. Pop (Stack)\n",
      "3. Enqueue (Queue)\n",
      "4. Dequeue (Queue)\n",
      "5. Display Stack and Queue\n",
      "6. Exit\n",
      "Input: Shyam\n",
      "Input for enqueue (queue): Shyam\n",
      "Enqueued 'Shyam' into queue.\n",
      "\n",
      "Menu:\n",
      "1. Push (Stack)\n",
      "2. Pop (Stack)\n",
      "3. Enqueue (Queue)\n",
      "4. Dequeue (Queue)\n",
      "5. Display Stack and Queue\n",
      "6. Exit\n",
      "Input: Hari\n",
      "Input for push (stack): Hari\n",
      "Pushed 'Hari' into stack.\n",
      "\n",
      "Menu:\n",
      "1. Push (Stack)\n",
      "2. Pop (Stack)\n",
      "3. Enqueue (Queue)\n",
      "4. Dequeue (Queue)\n",
      "5. Display Stack and Queue\n",
      "6. Exit\n",
      "Input: Gita\n",
      "Input for enqueue (queue): Gita\n",
      "Enqueued 'Gita' into queue.\n",
      "\n",
      "Menu:\n",
      "1. Push (Stack)\n",
      "2. Pop (Stack)\n",
      "3. Enqueue (Queue)\n",
      "4. Dequeue (Queue)\n",
      "5. Display Stack and Queue\n",
      "6. Exit\n",
      "Input for pop (stack): Hari\n",
      "Popped 'Hari' from stack.\n",
      "\n",
      "Menu:\n",
      "1. Push (Stack)\n",
      "2. Pop (Stack)\n",
      "3. Enqueue (Queue)\n",
      "4. Dequeue (Queue)\n",
      "5. Display Stack and Queue\n",
      "6. Exit\n",
      "Input for dequeue (queue): Shyam\n",
      "Dequeued 'Shyam' from queue.\n",
      "\n",
      "Menu:\n",
      "1. Push (Stack)\n",
      "2. Pop (Stack)\n",
      "3. Enqueue (Queue)\n",
      "4. Dequeue (Queue)\n",
      "5. Display Stack and Queue\n",
      "6. Exit\n",
      "Current Stack: ['Ram']\n",
      "Current Queue: ['Gita']\n",
      "\n",
      "Menu:\n",
      "1. Push (Stack)\n",
      "2. Pop (Stack)\n",
      "3. Enqueue (Queue)\n",
      "4. Dequeue (Queue)\n",
      "5. Display Stack and Queue\n",
      "6. Exit\n",
      "Exiting program.\n"
     ]
    }
   ],
   "source": [
    "# Q.No.4: Write a program to simulate a basic stack and queue using a list.\n",
    "# Provide options to push, pop (stack), enqueue, and dequeue (queue), using user-defined functions.\n",
    "\n",
    "stack = []\n",
    "queue = []\n",
    "\n",
    "# Stack functions\n",
    "def push_stack(val):\n",
    "    print(f\"Input for push (stack): {val}\")\n",
    "    stack.append(val)\n",
    "    print(f\"Pushed '{val}' into stack.\")\n",
    "\n",
    "def pop_stack():\n",
    "    if len(stack) == 0:\n",
    "        print(\"Stack is empty.\")\n",
    "    else:\n",
    "        popped = stack.pop()\n",
    "        print(f\"Input for pop (stack): {popped}\")\n",
    "        print(f\"Popped '{popped}' from stack.\")\n",
    "\n",
    "# Queue functions\n",
    "def enqueue(val):\n",
    "    print(f\"Input for enqueue (queue): {val}\")\n",
    "    queue.append(val)\n",
    "    print(f\"Enqueued '{val}' into queue.\")\n",
    "\n",
    "def dequeue():\n",
    "    if len(queue) == 0:\n",
    "        print(\"Queue is empty.\")\n",
    "    else:\n",
    "        dequeued = queue.pop(0)\n",
    "        print(f\"Input for dequeue (queue): {dequeued}\")\n",
    "        print(f\"Dequeued '{dequeued}' from queue.\")\n",
    "\n",
    "# Display function\n",
    "def display():\n",
    "    print(f\"Current Stack: {stack}\")\n",
    "    print(f\"Current Queue: {queue}\")\n",
    "\n",
    "# Menu loop\n",
    "def main():\n",
    "    while True:\n",
    "        print(\"\\nMenu:\")\n",
    "        print(\"1. Push (Stack)\")\n",
    "        print(\"2. Pop (Stack)\")\n",
    "        print(\"3. Enqueue (Queue)\")\n",
    "        print(\"4. Dequeue (Queue)\")\n",
    "        print(\"5. Display Stack and Queue\")\n",
    "        print(\"6. Exit\")\n",
    "\n",
    "        choice = input(\"Enter your choice: \")\n",
    "\n",
    "        if choice == \"1\":\n",
    "            val = input(\"Enter value to push into stack: \")\n",
    "            print(f\"Input: {val}\")\n",
    "            push_stack(val)\n",
    "\n",
    "        elif choice == \"2\":\n",
    "            pop_stack()\n",
    "\n",
    "        elif choice == \"3\":\n",
    "            val = input(\"Enter value to enqueue into queue: \")\n",
    "            print(f\"Input: {val}\")\n",
    "            enqueue(val)\n",
    "\n",
    "        elif choice == \"4\":\n",
    "            dequeue()\n",
    "\n",
    "        elif choice == \"5\":\n",
    "            display()\n",
    "\n",
    "        elif choice == \"6\":\n",
    "            print(\"Exiting program.\")\n",
    "            break\n",
    "\n",
    "        else:\n",
    "            print(\"Invalid choice. Please enter a number from 1 to 6.\")\n",
    "\n",
    "main()"
   ]
  },
  {
   "cell_type": "markdown",
   "id": "d89c86d5",
   "metadata": {},
   "source": [
    "5. Write a Python function that accepts a list and returns a new list containing only the elements at even indexes and those that are prime numbers."
   ]
  },
  {
   "cell_type": "code",
   "execution_count": 5,
   "id": "b5300d54",
   "metadata": {},
   "outputs": [
    {
     "name": "stdout",
     "output_type": "stream",
     "text": [
      "range(0, 8, 2)\n",
      "2\n",
      "Elements at even indexes and prime numbers: [2, 4, 6, 8, 10, 3, 5, 7, 11]\n"
     ]
    }
   ],
   "source": [
    "#Question 5: Write a Python function that accepts a list and returns a new list containing only the elements at even indexes and those that are prime numbers. [cite: 12]\n",
    "l = [2,3,4,5,6,7,8,9]\n",
    "even_indices = range(0,len(l),2)\n",
    "print(even_indices)\n",
    "\n",
    "\n",
    "for index in even_indices:\n",
    "    count = 0\n",
    "    for i in range(1,l[index]+1):\n",
    "        if (l[index]%i==0):\n",
    "            count +=1\n",
    "    if count==2:\n",
    "        print(l[index])\n",
    "\n",
    "\n",
    "def get_even_indexed_and_prime_elements(input_list):\n",
    "    new_list = []\n",
    "    # Add elements at even indexes\n",
    "    for i in range(0, len(input_list), 2):\n",
    "        new_list.append(input_list[i])\n",
    "\n",
    "    # Add prime numbers\n",
    "    for num in input_list:\n",
    "        if num <= 1:\n",
    "            continue\n",
    "        is_prime = True\n",
    "        for i in range(2, int(num**0.5) + 1):\n",
    "            if num % i == 0:\n",
    "                is_prime = False\n",
    "                break\n",
    "        if is_prime and num not in new_list: # Avoid duplicates if a prime is also at an even index\n",
    "            new_list.append(num)\n",
    "    return new_list\n",
    "\n",
    "# Example usage of the new code:\n",
    "my_list = [2, 3, 4, 5, 6, 7, 8, 9, 10, 11]\n",
    "result = get_even_indexed_and_prime_elements(my_list)\n",
    "print(f\"Elements at even indexes and prime numbers: {result}\")"
   ]
  },
  {
   "cell_type": "markdown",
   "id": "cde3891f",
   "metadata": {},
   "source": [
    "6. Write a program to create a tuple of n numbers, then find:\n",
    "a. The average of the numbers\n",
    "b. The median\n",
    "c. The mode (without using libraries)"
   ]
  },
  {
   "cell_type": "code",
   "execution_count": 6,
   "id": "5c9c6403",
   "metadata": {},
   "outputs": [
    {
     "name": "stdout",
     "output_type": "stream",
     "text": [
      "Enter the numbers:\n",
      "Input: 3\n",
      "Input: 5\n",
      "Input: 2\n",
      "Input: 5\n",
      "Input: 8\n",
      "Input: 5\n",
      "Input: 4\n",
      "Tuple: (3, 5, 2, 5, 8, 5, 4)\n",
      "Average: 4.571428571428571\n",
      "Median: 5\n",
      "Mode: 5\n"
     ]
    }
   ],
   "source": [
    "# Q.No.6: Write a program to create a tuple of n numbers, then find:\n",
    "# a. The average of the numbers\n",
    "# b. The median\n",
    "# c. The mode (without using libraries)\n",
    "\n",
    "def input_tuple():\n",
    "    n = int(input(\"Enter the number of elements: \"))\n",
    "    print(\"Enter the numbers:\")\n",
    "    nums = []\n",
    "    for _ in range(n):\n",
    "        val = int(input())\n",
    "        print(f\"Input: {val}\")\n",
    "        nums.append(val)\n",
    "    return tuple(nums)\n",
    "\n",
    "def calculate_average(t):\n",
    "    total = 0\n",
    "    for num in t:\n",
    "        total += num\n",
    "    return total / len(t)\n",
    "\n",
    "def find_median(t):\n",
    "    sorted_list = list(t)\n",
    "    for i in range(len(sorted_list)):\n",
    "        for j in range(len(sorted_list) - i - 1):\n",
    "            if sorted_list[j] > sorted_list[j + 1]:\n",
    "                sorted_list[j], sorted_list[j + 1] = sorted_list[j + 1], sorted_list[j]\n",
    "    n = len(sorted_list)\n",
    "    if n % 2 == 0:\n",
    "        return (sorted_list[n // 2 - 1] + sorted_list[n // 2]) / 2\n",
    "    else:\n",
    "        return sorted_list[n // 2]\n",
    "\n",
    "def find_mode(t):\n",
    "    unique = []\n",
    "    counts = []\n",
    "    for num in t:\n",
    "        if num in unique:\n",
    "            index = unique.index(num)\n",
    "            counts[index] += 1\n",
    "        else:\n",
    "            unique.append(num)\n",
    "            counts.append(1)\n",
    "    max_freq = counts[0]\n",
    "    mode_val = unique[0]\n",
    "    for i in range(1, len(counts)):\n",
    "        if counts[i] > max_freq:\n",
    "            max_freq = counts[i]\n",
    "            mode_val = unique[i]\n",
    "    return mode_val\n",
    "\n",
    "def main():\n",
    "    t = input_tuple()\n",
    "    print(\"Tuple:\", t)\n",
    "    print(\"Average:\", calculate_average(t))\n",
    "    print(\"Median:\", find_median(t))\n",
    "    print(\"Mode:\", find_mode(t))\n",
    "\n",
    "main()"
   ]
  },
  {
   "cell_type": "markdown",
   "id": "9ee501f2",
   "metadata": {},
   "source": [
    "7. Write a program that receives a list of tuples representing (x, y) coordinates. Determine whether the points form a straight line."
   ]
  },
  {
   "cell_type": "code",
   "execution_count": 7,
   "id": "ac644879",
   "metadata": {},
   "outputs": [
    {
     "name": "stdout",
     "output_type": "stream",
     "text": [
      "Points1 form a straight line: True\n",
      "Points2 form a straight line: False\n"
     ]
    }
   ],
   "source": [
    "# Q no. 7:\n",
    "# Write a program that receives a list of tuples representing (x, y) coordinates. Determine whether the points form a straight line.\n",
    "\n",
    "def is_straight_line(points):\n",
    "    if len(points) < 2:\n",
    "        return True\n",
    "    \n",
    "    x0, y0 = points[0]\n",
    "    x1, y1 = points[1]\n",
    "    dx = x1 - x0\n",
    "    dy = y1 - y0\n",
    "    \n",
    "    for i in range(2, len(points)):\n",
    "        x, y = points[i]\n",
    "        if (y - y0) * dx != dy * (x - x0):\n",
    "            return False\n",
    "    return True\n",
    "\n",
    "points1 = [(1, 2), (2, 4), (3, 6), (4, 8)]\n",
    "points2 = [(1, 1), (2, 2), (3, 5)]\n",
    "\n",
    "print(\"Points1 form a straight line:\", is_straight_line(points1))\n",
    "print(\"Points2 form a straight line:\", is_straight_line(points2))"
   ]
  },
  {
   "cell_type": "markdown",
   "id": "75375b9b",
   "metadata": {},
   "source": [
    "8. Write a program to input two sets of student roll numbers: one who play cricket and\n",
    "another who play football. Find:\n",
    "a. Students who play both sports\n",
    "b. Students who play only one sport\n",
    "c. Students who play neither (given a master list of all students)"
   ]
  },
  {
   "cell_type": "code",
   "execution_count": 8,
   "id": "408a9b6b",
   "metadata": {},
   "outputs": [
    {
     "name": "stdout",
     "output_type": "stream",
     "text": [
      "Students who play both sports: {3, 5}\n",
      "Students who play only one sport: {1, 2, 4, 6, 7, 8}\n",
      "Students who play neither sport: {9, 10}\n"
     ]
    }
   ],
   "source": [
    "# Q no. 8:\n",
    "# Write a program to input two sets of student roll numbers: one who play cricket and another who play football. \n",
    "# Find:\n",
    "# a. Students who play both sports\n",
    "# b. Students who play only one sport\n",
    "# c. Students who play neither (given a master list of all students)\n",
    "\n",
    "def analyze_sports_players(master_list, cricket_players, football_players):\n",
    "    master_set = set(master_list)\n",
    "    cricket_set = set(cricket_players)\n",
    "    football_set = set(football_players)\n",
    "    \n",
    "    both_sports = cricket_set & football_set\n",
    "    only_one_sport = cricket_set ^ football_set\n",
    "    neither_sport = master_set - (cricket_set | football_set)\n",
    "    \n",
    "    return both_sports, only_one_sport, neither_sport\n",
    "\n",
    "master_list = [1, 2, 3, 4, 5, 6, 7, 8, 9, 10]\n",
    "cricket_players = [1, 2, 3, 5, 7]\n",
    "football_players = [3, 4, 5, 6, 8]\n",
    "\n",
    "both, only_one, neither = analyze_sports_players(master_list, cricket_players, football_players)\n",
    "\n",
    "print(\"Students who play both sports:\", both)\n",
    "print(\"Students who play only one sport:\", only_one)\n",
    "print(\"Students who play neither sport:\", neither)"
   ]
  },
  {
   "cell_type": "markdown",
   "id": "2a08a3c0",
   "metadata": {},
   "source": [
    "9. Create a set of random numbers. Add more numbers until the set has 10 unique elements. Also, remove the smallest and largest element."
   ]
  },
  {
   "cell_type": "code",
   "execution_count": 9,
   "id": "1b4c3921",
   "metadata": {},
   "outputs": [
    {
     "name": "stdout",
     "output_type": "stream",
     "text": [
      "Final set after additions and removals: {6, 7, 71, 14, 15, 50, 20, 21}\n"
     ]
    }
   ],
   "source": [
    "# Q no. 9:\n",
    "# Create a set of random numbers. Add more numbers until the set has 10 unique elements.\n",
    "# Also, remove the smallest and largest element.\n",
    "\n",
    "import random\n",
    "\n",
    "def create_and_modify_set(initial_numbers):\n",
    "    numbers = set(initial_numbers)\n",
    "\n",
    "    while len(numbers) < 10:\n",
    "        numbers.add(random.randint(1, 100))\n",
    "\n",
    "    numbers.remove(min(numbers))\n",
    "    numbers.remove(max(numbers))\n",
    "    \n",
    "    return numbers\n",
    "\n",
    "initial_set = {3, 7, 15}  \n",
    "result_set = create_and_modify_set(initial_set)\n",
    "print(\"Final set after additions and removals:\", result_set)"
   ]
  },
  {
   "cell_type": "markdown",
   "id": "e36ab505",
   "metadata": {},
   "source": [
    "10. Write a Python function that accepts a sentence and returns a set of all unique vowels used."
   ]
  },
  {
   "cell_type": "code",
   "execution_count": 10,
   "id": "6aa2a721",
   "metadata": {},
   "outputs": [
    {
     "name": "stdout",
     "output_type": "stream",
     "text": [
      "{'i', 'a', 'u', 'e', 'o'}\n"
     ]
    }
   ],
   "source": [
    "# Q no. 10:\n",
    "# Write a Python function that accepts a sentence and returns a set of all unique vowels used.\n",
    "\n",
    "def unique_vowels(sentence):\n",
    "    vowels = set(\"aeiouAEIOU\")\n",
    "    return {char.lower() for char in sentence if char in vowels}\n",
    "\n",
    "sentence = \"Innovation distinguishes between a leader and a follower.\"\n",
    "print(unique_vowels(sentence))"
   ]
  },
  {
   "cell_type": "markdown",
   "id": "1b9ddbe7",
   "metadata": {},
   "source": [
    "11. Given a list of numbers with duplicates, use a set to remove the duplicates. Then, convert it back to a sorted list and display the result."
   ]
  },
  {
   "cell_type": "code",
   "execution_count": 11,
   "id": "5c410cc0",
   "metadata": {},
   "outputs": [
    {
     "name": "stdout",
     "output_type": "stream",
     "text": [
      "[1, 2, 3, 5, 7, 8, 9]\n"
     ]
    }
   ],
   "source": [
    "# Q no. 11:\n",
    "# Given a list of numbers with duplicates, use a set to remove the duplicates.\n",
    "# Then, convert it back to a sorted list and display the result.\n",
    "\n",
    "def remove_duplicates_and_sort(numbers):\n",
    "    unique_numbers = set(numbers)        \n",
    "    sorted_numbers = sorted(unique_numbers)  \n",
    "    return sorted_numbers\n",
    "numbers = [5, 3, 8, 3, 9, 1, 5, 7, 8, 2]\n",
    "result = remove_duplicates_and_sort(numbers)\n",
    "print(result)"
   ]
  },
  {
   "cell_type": "markdown",
   "id": "2cc5822a",
   "metadata": {},
   "source": [
    "12. Create a dictionary to store student names as keys and their scores in three subjects as values (in a list). Write functions to:\n",
    "a. Display the average marks of each student\n",
    "b. Find the topper\n",
    "c. Update the marks of a student"
   ]
  },
  {
   "cell_type": "code",
   "execution_count": 12,
   "id": "f2e4fa12",
   "metadata": {},
   "outputs": [
    {
     "name": "stdout",
     "output_type": "stream",
     "text": [
      "Average marks of each student: {'Ram': 84.33333333333333, 'Shyam': 91.66666666666667, 'Hari': 75.0}\n",
      "Topper: Shyam with average score 91.67\n",
      "Updated marks for Hari: [80, 85, 90]\n"
     ]
    }
   ],
   "source": [
    "# Q no. 12:\n",
    "# Create a dictionary to store student names as keys and their scores in three subjects as values (in a list).\n",
    "# Write functions to:\n",
    "# a. Display the average marks of each student\n",
    "# b. Find the topper\n",
    "# c. Update the marks of a student\n",
    "\n",
    "def display_averages(student_scores):\n",
    "    averages = {}\n",
    "    for student, scores in student_scores.items():\n",
    "        averages[student] = sum(scores) / len(scores)\n",
    "    return averages\n",
    "\n",
    "def find_topper(student_scores):\n",
    "    averages = display_averages(student_scores)\n",
    "    topper = max(averages, key=averages.get)\n",
    "    return topper, averages[topper]\n",
    "\n",
    "def update_marks(student_scores, student_name, new_scores):\n",
    "    if student_name in student_scores:\n",
    "        student_scores[student_name] = new_scores\n",
    "        return True\n",
    "    else:\n",
    "        return False\n",
    "\n",
    "students = {\n",
    "    \"Ram\": [85, 90, 78],\n",
    "    \"Shyam\": [92, 88, 95],\n",
    "    \"Hari\": [70, 75, 80]\n",
    "}\n",
    "\n",
    "averages = display_averages(students)\n",
    "print(\"Average marks of each student:\", averages)\n",
    "\n",
    "topper, top_score = find_topper(students)\n",
    "print(f\"Topper: {topper} with average score {top_score:.2f}\")\n",
    "\n",
    "updated = update_marks(students, \"Hari\", [80, 85, 90])\n",
    "if updated:\n",
    "    print(\"Updated marks for Hari:\", students[\"Hari\"])\n",
    "else:\n",
    "    print(\"Student not found.\")"
   ]
  },
  {
   "cell_type": "markdown",
   "id": "4c3c6b5e",
   "metadata": {},
   "source": [
    "13. Write a program that reads a text and counts the frequency of each character (excluding spaces and special characters) using a dictionary."
   ]
  },
  {
   "cell_type": "code",
   "execution_count": 13,
   "id": "0917daac",
   "metadata": {},
   "outputs": [
    {
     "name": "stdout",
     "output_type": "stream",
     "text": [
      "{'h': 2, 'e': 4, 'l': 5, 'o': 6, 'w': 3, 'r': 2, 'd': 3, 'c': 2, 'm': 1, 't': 2, 'i': 1, 'n': 1, 'g': 1}\n"
     ]
    }
   ],
   "source": [
    "# Q no. 13:\n",
    "# Write a program that reads a text and counts the frequency of each character (excluding spaces and special characters) using a dictionary.\n",
    "\n",
    "def char_frequency(text):\n",
    "    freq = {}\n",
    "    for char in text:\n",
    "        if char.isalpha():\n",
    "            char_lower = char.lower()\n",
    "            freq[char_lower] = freq.get(char_lower, 0) + 1\n",
    "    return freq\n",
    "\n",
    "text = \"Hello, World! Welcome to the coding world.\"\n",
    "frequency = char_frequency(text)\n",
    "print(frequency)"
   ]
  },
  {
   "cell_type": "markdown",
   "id": "8bb792e3",
   "metadata": {},
   "source": [
    "14. Build a dictionary where the keys are product names and the values are their prices.\n",
    "Implement options to:\n",
    "a. Add a new product\n",
    "b. Update price of an existing product\n",
    "c. Find products within a given price range"
   ]
  },
  {
   "cell_type": "code",
   "execution_count": 14,
   "id": "5b2bbcb8",
   "metadata": {},
   "outputs": [
    {
     "name": "stdout",
     "output_type": "stream",
     "text": [
      "Product added: True\n",
      "Price updated: True\n",
      "Products in price range 50 to 600: {'Phone': 550, 'Headphones': 100, 'Keyboard': 70}\n"
     ]
    }
   ],
   "source": [
    "# Q no. 14:\n",
    "# Build a dictionary where keys are product names and values are their prices.\n",
    "# Implement functions to:\n",
    "# a. Add a new product\n",
    "# b. Update price of an existing product\n",
    "# c. Find products within a given price range\n",
    "\n",
    "def add_product(products, name, price):\n",
    "    if name in products:\n",
    "        return False\n",
    "    products[name] = price\n",
    "    return True\n",
    "\n",
    "def update_price(products, name, new_price):\n",
    "    if name not in products:\n",
    "        return False \n",
    "    products[name] = new_price\n",
    "    return True\n",
    "\n",
    "def find_products_in_range(products, low, high):\n",
    "    return {name: price for name, price in products.items() if low <= price <= high}\n",
    "\n",
    "\n",
    "products = {\n",
    "    \"Laptop\": 1000,\n",
    "    \"Phone\": 500,\n",
    "    \"Headphones\": 100,\n",
    "    \"Keyboard\": 70,\n",
    "}\n",
    "\n",
    "added = add_product(products, \"Mouse\", 40)\n",
    "print(\"Product added:\", added)\n",
    "\n",
    "updated = update_price(products, \"Phone\", 550)\n",
    "print(\"Price updated:\", updated)\n",
    "\n",
    "in_range = find_products_in_range(products, 50, 600)\n",
    "print(\"Products in price range 50 to 600:\", in_range)"
   ]
  },
  {
   "cell_type": "markdown",
   "id": "b160ea4a",
   "metadata": {},
   "source": [
    "## Mini Project: Student Report Card Management System"
   ]
  },
  {
   "cell_type": "markdown",
   "id": "dea2a215",
   "metadata": {},
   "source": [
    "Problem Statement:\n",
    "Design and implement a Student Report Card Management System using Python that allows a teacher to:\n",
    "- Add new student records (name, roll number, subject-wise marks).\n",
    "- View the report of all students.\n",
    "- Display the topper(s) of the class based on average marks.\n",
    "- Search for a student by roll number.\n",
    "- Display all students who have failed in one or more subjects.\n",
    "- Optionally update marks of any student."
   ]
  },
  {
   "cell_type": "code",
   "execution_count": 15,
   "id": "8e881c3d",
   "metadata": {},
   "outputs": [
    {
     "name": "stdout",
     "output_type": "stream",
     "text": [
      "\n",
      "--- All Student Records ---\n",
      "Roll No: 1, Name: Ram, Marks: [85, 78, 92]\n",
      "Roll No: 2, Name: Shyam, Marks: [65, 55, 70]\n",
      "Roll No: 3, Name: Hari, Marks: [30, 85, 40]\n",
      "Roll No: 4, Name: Gita, Marks: [90, 93, 89]\n",
      "\n",
      "Topper(s) with average marks 90.67: Gita\n",
      "\n",
      "Details of student with roll no 2: Name: Shyam, Marks: [65, 55, 70]\n",
      "\n",
      "Students who failed in one or more subjects:\n",
      "Roll No: 3, Name: Hari\n",
      "\n",
      "Updated marks for roll no 3:\n",
      "{'name': 'Hari', 'marks': [45, 85, 50]}\n"
     ]
    }
   ],
   "source": [
    "# MINI PROJECT: Student Report Card Management System\n",
    "def add_student(records, name, roll_no, marks):\n",
    "    if roll_no in records:\n",
    "        return False \n",
    "    records[roll_no] = {\"name\": name, \"marks\": marks}\n",
    "    return True\n",
    "\n",
    "def view_all_students(records):\n",
    "    for roll_no, info in records.items():\n",
    "        print(f\"Roll No: {roll_no}, Name: {info['name']}, Marks: {info['marks']}\")\n",
    "\n",
    "def calculate_average(marks):\n",
    "    return sum(marks) / len(marks)\n",
    "\n",
    "def find_toppers(records):\n",
    "    if not records:\n",
    "        return []\n",
    "    averages = {roll: calculate_average(info[\"marks\"]) for roll, info in records.items()}\n",
    "    max_avg = max(averages.values())\n",
    "    toppers = [records[roll][\"name\"] for roll, avg in averages.items() if avg == max_avg]\n",
    "    return toppers, max_avg\n",
    "\n",
    "def search_student(records, roll_no):\n",
    "    return records.get(roll_no, None)\n",
    "\n",
    "def students_failed(records, passing_mark=40):\n",
    "    failed_students = []\n",
    "    for roll_no, info in records.items():\n",
    "        if any(mark < passing_mark for mark in info[\"marks\"]):\n",
    "            failed_students.append((roll_no, info[\"name\"]))\n",
    "    return failed_students\n",
    "\n",
    "def update_marks(records, roll_no, new_marks):\n",
    "    if roll_no in records:\n",
    "        records[roll_no][\"marks\"] = new_marks\n",
    "        return True\n",
    "    return False\n",
    "\n",
    "students = {}\n",
    "\n",
    "add_student(students, \"Ram\", 1, [85, 78, 92])\n",
    "add_student(students, \"Shyam\", 2, [65, 55, 70])\n",
    "add_student(students, \"Hari\", 3, [30, 85, 40])\n",
    "add_student(students, \"Gita\", 4, [90, 93, 89])\n",
    "\n",
    "print(\"\\n--- All Student Records ---\")\n",
    "view_all_students(students)\n",
    "\n",
    "toppers, avg = find_toppers(students)\n",
    "print(f\"\\nTopper(s) with average marks {avg:.2f}: {', '.join(toppers)}\")\n",
    "\n",
    "roll_to_search = 2\n",
    "result = search_student(students, roll_to_search)\n",
    "if result:\n",
    "    print(f\"\\nDetails of student with roll no {roll_to_search}: Name: {result['name']}, Marks: {result['marks']}\")\n",
    "else:\n",
    "    print(f\"\\nStudent with roll no {roll_to_search} not found.\")\n",
    "\n",
    "failed = students_failed(students)\n",
    "print(\"\\nStudents who failed in one or more subjects:\")\n",
    "for roll, name in failed:\n",
    "    print(f\"Roll No: {roll}, Name: {name}\")\n",
    "\n",
    "updated = update_marks(students, 3, [45, 85, 50])\n",
    "if updated:\n",
    "    print(\"\\nUpdated marks for roll no 3:\")\n",
    "    print(students[3])\n",
    "else:\n",
    "    print(\"\\nFailed to update marks: Roll number not found.\")"
   ]
  }
 ],
 "metadata": {
  "kernelspec": {
   "display_name": ".venv",
   "language": "python",
   "name": "python3"
  },
  "language_info": {
   "codemirror_mode": {
    "name": "ipython",
    "version": 3
   },
   "file_extension": ".py",
   "mimetype": "text/x-python",
   "name": "python",
   "nbconvert_exporter": "python",
   "pygments_lexer": "ipython3",
   "version": "3.12.3"
  }
 },
 "nbformat": 4,
 "nbformat_minor": 5
}
