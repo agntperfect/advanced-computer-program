{
 "cells": [
  {
   "cell_type": "markdown",
   "id": "7be82af9",
   "metadata": {},
   "source": [
    "# LAB 1\n",
    "## Conditions and Loop"
   ]
  },
  {
   "cell_type": "markdown",
   "id": "7b64008a",
   "metadata": {},
   "source": [
    "1. Write a Python program to remove all duplicates from a list and print the unique elements."
   ]
  },
  {
   "cell_type": "code",
   "execution_count": 3,
   "id": "e6d586a5",
   "metadata": {},
   "outputs": [
    {
     "name": "stdout",
     "output_type": "stream",
     "text": [
      "7 is a prime number.\n"
     ]
    }
   ],
   "source": [
    "# Write a program to check whether a given number is prime or not.\n",
    "num = int(input(\"Enter a number: \"))\n",
    "\n",
    "if num <= 1:\n",
    "    print(f\"{num} is not a prime number.\")\n",
    "else:\n",
    "    is_prime = True\n",
    "    for i in range(2, int(num ** 0.5) + 1):\n",
    "        if num % i == 0:\n",
    "            is_prime = False\n",
    "            break\n",
    "    if is_prime:\n",
    "        print(f\"{num} is a prime number.\")\n",
    "    else:\n",
    "        print(f\"{num} is not a prime number.\")"
   ]
  },
  {
   "cell_type": "markdown",
   "id": "d4117d19",
   "metadata": {},
   "source": [
    "2. Write a program to print all the even numbers between 1 and 100 using a loop."
   ]
  },
  {
   "cell_type": "code",
   "execution_count": 4,
   "id": "26ae792d",
   "metadata": {},
   "outputs": [
    {
     "name": "stdout",
     "output_type": "stream",
     "text": [
      "2 4 6 8 10 12 14 16 18 20 22 24 26 28 30 32 34 36 38 40 42 44 46 48 50 52 54 56 58 60 62 64 66 68 70 72 74 76 78 80 82 84 86 88 90 92 94 96 98 100 "
     ]
    }
   ],
   "source": [
    "# Write a program to print all the even numbers between 1 and 100 using a loop.\n",
    "for num in range(1, 101):\n",
    "    if num % 2 == 0:\n",
    "        print(num, end=' ')"
   ]
  },
  {
   "cell_type": "markdown",
   "id": "1237001c",
   "metadata": {},
   "source": [
    "3. Write a program that reads a number and prints the factorial of that number using a while loop.\n"
   ]
  },
  {
   "cell_type": "code",
   "execution_count": 5,
   "id": "9468d341",
   "metadata": {},
   "outputs": [
    {
     "name": "stdout",
     "output_type": "stream",
     "text": [
      "Factorial of 5 is 120\n"
     ]
    }
   ],
   "source": [
    "# Write a program that reads a number and prints the factorial of that number using a while loop.\n",
    "n = int(input(\"Enter a number: \"))\n",
    "factorial = 1\n",
    "i = 1\n",
    "\n",
    "while i <= n:\n",
    "    factorial *= i\n",
    "    i += 1\n",
    "\n",
    "print(f\"Factorial of {n} is {factorial}\")"
   ]
  },
  {
   "cell_type": "markdown",
   "id": "d8eacc7b",
   "metadata": {},
   "source": [
    "4. Write a program to print the multiplication table of a given number using a for loop."
   ]
  },
  {
   "cell_type": "code",
   "execution_count": 6,
   "id": "ccb68f18",
   "metadata": {},
   "outputs": [
    {
     "name": "stdout",
     "output_type": "stream",
     "text": [
      "9 x 1 = 9\n",
      "9 x 2 = 18\n",
      "9 x 3 = 27\n",
      "9 x 4 = 36\n",
      "9 x 5 = 45\n",
      "9 x 6 = 54\n",
      "9 x 7 = 63\n",
      "9 x 8 = 72\n",
      "9 x 9 = 81\n",
      "9 x 10 = 90\n"
     ]
    }
   ],
   "source": [
    "# Write a program to print the multiplication table of a given number using a for loop.\n",
    "\n",
    "num = int(input(\"Enter a number: \"))\n",
    "\n",
    "for i in range(1, 11):\n",
    "    print(f\"{num} x {i} = {num * i}\")"
   ]
  },
  {
   "cell_type": "markdown",
   "id": "18ab9d14",
   "metadata": {},
   "source": [
    "5. Write a program to find the largest and smallest number in a list entered by the user."
   ]
  },
  {
   "cell_type": "code",
   "execution_count": 10,
   "id": "fcef4684",
   "metadata": {},
   "outputs": [
    {
     "name": "stdout",
     "output_type": "stream",
     "text": [
      "[10, 20, 30, 40, 50, 60, 70]\n",
      "Largest number: 70\n",
      "Smallest number: 10\n"
     ]
    }
   ],
   "source": [
    "# Write a program to find the largest and smallest number in a list entered by the user.\n",
    "numbers = list(map(int, input(\"Enter numbers separated by spaces: \").split()))\n",
    "\n",
    "largest = max(numbers)\n",
    "smallest = min(numbers)\n",
    "print(numbers)\n",
    "print(f\"Largest number: {largest}\")\n",
    "print(f\"Smallest number: {smallest}\")"
   ]
  },
  {
   "cell_type": "markdown",
   "id": "3612f983",
   "metadata": {},
   "source": [
    "6. Write a program that accepts 10 integers from the user and counts how many are positive, negative, and zero."
   ]
  },
  {
   "cell_type": "code",
   "execution_count": 11,
   "id": "487ca230",
   "metadata": {},
   "outputs": [
    {
     "name": "stdout",
     "output_type": "stream",
     "text": [
      "Enter 10 integers:\n",
      "-5\n",
      "9\n",
      "78\n",
      "5\n",
      "20\n",
      "90\n",
      "40\n",
      "0\n",
      "55\n",
      "-87\n",
      "Positive numbers: 7\n",
      "Negative numbers: 2\n",
      "Zeros: 1\n"
     ]
    }
   ],
   "source": [
    "# Write a program that accepts 10 integers from the user and counts how many are positive, negative, and zero.\n",
    "\n",
    "positive = 0\n",
    "negative = 0\n",
    "zero = 0\n",
    "\n",
    "print(\"Enter 10 integers:\")\n",
    "\n",
    "for _ in range(10):\n",
    "    num = int(input())\n",
    "    print(num)\n",
    "    if num > 0:\n",
    "        positive += 1\n",
    "    elif num < 0:\n",
    "        negative += 1\n",
    "    else:\n",
    "        zero += 1\n",
    "\n",
    "print(f\"Positive numbers: {positive}\")\n",
    "print(f\"Negative numbers: {negative}\")\n",
    "print(f\"Zeros: {zero}\")"
   ]
  },
  {
   "cell_type": "markdown",
   "id": "f1ffddbc",
   "metadata": {},
   "source": [
    "7. Write a program to generate the Fibonacci sequence up to n terms."
   ]
  },
  {
   "cell_type": "code",
   "execution_count": 12,
   "id": "c22d8fee",
   "metadata": {},
   "outputs": [
    {
     "name": "stdout",
     "output_type": "stream",
     "text": [
      "nth term: 10\n",
      "Fibonacci sequence:\n",
      "0 1 1 2 3 5 8 13 21 34 "
     ]
    }
   ],
   "source": [
    "# Write a program to generate the Fibonacci sequence up to n terms.\n",
    "\n",
    "n = int(input(\"Enter the number of terms: \"))\n",
    "print(\"nth term:\", n)\n",
    "a, b = 0, 1\n",
    "print(\"Fibonacci sequence:\")\n",
    "\n",
    "for _ in range(n):\n",
    "    print(a, end=' ')\n",
    "    a, b = b, a + b"
   ]
  },
  {
   "cell_type": "markdown",
   "id": "dbff8da5",
   "metadata": {},
   "source": [
    "8. Write a program that reads a number and prints whether it is a palindrome or not."
   ]
  },
  {
   "cell_type": "code",
   "execution_count": 13,
   "id": "21d74bc0",
   "metadata": {},
   "outputs": [
    {
     "name": "stdout",
     "output_type": "stream",
     "text": [
      "32123 is a palindrome.\n"
     ]
    }
   ],
   "source": [
    "# Write a program that reads a number and prints whether it is a palindrome or not.\n",
    "num = input(\"Enter a number: \")\n",
    "\n",
    "if num == num[::-1]:\n",
    "    print(f\"{num} is a palindrome.\")\n",
    "else:\n",
    "    print(f\"{num} is not a palindrome.\")"
   ]
  },
  {
   "cell_type": "markdown",
   "id": "4d904194",
   "metadata": {},
   "source": [
    "9. Write a program that finds all numbers between 100 and 999 where the sum of the cubes of the digits equals the number itself (Armstrong numbers)."
   ]
  },
  {
   "cell_type": "code",
   "execution_count": 14,
   "id": "8642a245",
   "metadata": {},
   "outputs": [
    {
     "name": "stdout",
     "output_type": "stream",
     "text": [
      "Armstrong numbers between 100 and 999:\n",
      "153\n",
      "370\n",
      "371\n",
      "407\n"
     ]
    }
   ],
   "source": [
    "# Write a program that finds all numbers between 100 and 999 where the sum of the cubes of the digits equals the number itself (Armstrong numbers).\n",
    "\n",
    "print(\"Armstrong numbers between 100 and 999:\")\n",
    "\n",
    "for num in range(100, 1000):\n",
    "    digits = [int(d) for d in str(num)]\n",
    "    cube_sum = sum(d ** 3 for d in digits)\n",
    "    \n",
    "    if cube_sum == num:\n",
    "        print(num)"
   ]
  },
  {
   "cell_type": "markdown",
   "id": "3b3b9b36",
   "metadata": {},
   "source": [
    "10. Write a menu-driven program to perform arithmetic operations (+, -, *, /) based on user choice using conditional statements."
   ]
  },
  {
   "cell_type": "code",
   "execution_count": 16,
   "id": "e06bd47a",
   "metadata": {},
   "outputs": [
    {
     "name": "stdout",
     "output_type": "stream",
     "text": [
      "Select Operation:\n",
      "1. Addition (+)\n",
      "2. Subtraction (-)\n",
      "3. Multiplication (*)\n",
      "4. Division (/)\n",
      "56.0 + 64.0 = 120.0\n"
     ]
    }
   ],
   "source": [
    "# Write a menu-driven program to perform arithmetic operations (+, -, *, /) based on user choice using conditional statements.\n",
    "print(\"Select Operation:\")\n",
    "print(\"1. Addition (+)\")\n",
    "print(\"2. Subtraction (-)\")\n",
    "print(\"3. Multiplication (*)\")\n",
    "print(\"4. Division (/)\")\n",
    "\n",
    "choice = input(\"Enter choice (1/2/3/4): \")\n",
    "\n",
    "# Input two numbers\n",
    "a = float(input(\"Enter first number: \"))\n",
    "b = float(input(\"Enter second number: \"))\n",
    "\n",
    "# Perform operation based on choice\n",
    "if choice == '1':\n",
    "    print(f\"{a} + {b} = {a + b}\")\n",
    "elif choice == '2':\n",
    "    print(f\"{a} - {b} = {a - b}\")\n",
    "elif choice == '3':\n",
    "    print(f\"{a} * {b} = {a * b}\")\n",
    "elif choice == '4':\n",
    "    if b != 0:\n",
    "        print(f\"{a} / {b} = {a / b}\")\n",
    "    else:\n",
    "        print(\"Error: Division by zero.\")\n",
    "else:\n",
    "    print(\"Invalid choice.\")"
   ]
  },
  {
   "cell_type": "markdown",
   "id": "dc9f2a81",
   "metadata": {},
   "source": [
    "## Data Stuctures"
   ]
  },
  {
   "cell_type": "markdown",
   "id": "e08b4550",
   "metadata": {},
   "source": [
    "1. Write a Python program to remove all duplicates from a list and print the unique elements."
   ]
  },
  {
   "cell_type": "code",
   "execution_count": 17,
   "id": "04e0c941",
   "metadata": {},
   "outputs": [
    {
     "name": "stdout",
     "output_type": "stream",
     "text": [
      "[1, 2, 3, 4, 5, 7, 8]\n"
     ]
    }
   ],
   "source": [
    "# Write a Python program to remove all duplicates from a list and print the unique elements.\n",
    "list_1 = [1, 2, 4, 5, 2, 3, 7, 8]\n",
    "list_1 = list(set(list_1))\n",
    "print(list_1)"
   ]
  },
  {
   "cell_type": "markdown",
   "id": "c406f9d1",
   "metadata": {},
   "source": [
    "2. Create a tuple of 10 integers. Write a program to display the maximum and minimum numbers from the tuple."
   ]
  },
  {
   "cell_type": "code",
   "execution_count": 18,
   "id": "415b8018",
   "metadata": {},
   "outputs": [
    {
     "name": "stdout",
     "output_type": "stream",
     "text": [
      "Tuple of numbers: (23, 45, 12, 67, 34, 89, 2, 78, 56, 10)\n",
      "Maximum number: 89\n",
      "Minimum number: 2\n"
     ]
    }
   ],
   "source": [
    "# Create a tuple of 10 integers. Write a program to display the maximum and minimum numbers from the tuple.\n",
    "numbers = (23, 45, 12, 67, 34, 89, 2, 78, 56, 10)\n",
    "\n",
    "maximum = max(numbers)\n",
    "minimum = min(numbers)\n",
    "\n",
    "print(\"Tuple of numbers:\", numbers)\n",
    "print(\"Maximum number:\", maximum)\n",
    "print(\"Minimum number:\", minimum)"
   ]
  },
  {
   "cell_type": "markdown",
   "id": "b16991b6",
   "metadata": {},
   "source": [
    "3. Write a Python function that accepts a list and returns a new list with only the even numbers from the original list."
   ]
  },
  {
   "cell_type": "code",
   "execution_count": 19,
   "id": "edc650f9",
   "metadata": {},
   "outputs": [
    {
     "name": "stdout",
     "output_type": "stream",
     "text": [
      "Original list: [1, 2, 3, 4, 5, 6, 7, 8, 9]\n",
      "Even numbers: [2, 4, 6, 8]\n"
     ]
    }
   ],
   "source": [
    "# Write a Python function that accepts a list and returns a new list with only the even numbers from the original list.\n",
    "sample_list = list(range(1, 10))\n",
    "even = [num for num in sample_list if num % 2 == 0]\n",
    "print(\"Original list:\", sample_list)\n",
    "print(\"Even numbers:\", even)"
   ]
  },
  {
   "cell_type": "markdown",
   "id": "d2b29f25",
   "metadata": {},
   "source": [
    "4. Write a program to count the number of each character in a given string using a dictionary."
   ]
  },
  {
   "cell_type": "code",
   "execution_count": 20,
   "id": "b7c34f8e",
   "metadata": {},
   "outputs": [
    {
     "name": "stdout",
     "output_type": "stream",
     "text": [
      "Character counts:\n",
      "'H': 1\n",
      "'e': 1\n",
      "'l': 3\n",
      "'o': 2\n",
      "' ': 1\n",
      "'W': 1\n",
      "'r': 1\n",
      "'d': 1\n",
      "'!': 1\n"
     ]
    }
   ],
   "source": [
    "# Write a program to count the number of each character in a given string using a dictionary.\n",
    "input_string = \"Hello World!\"\n",
    "\n",
    "char_count = {}  \n",
    "\n",
    "for char in input_string:\n",
    "    char_count[char] = input_string.count(char)\n",
    "\n",
    "print(\"Character counts:\")\n",
    "for char, count in char_count.items():\n",
    "    print(f\"'{char}': {count}\")"
   ]
  },
  {
   "cell_type": "markdown",
   "id": "4e36821b",
   "metadata": {},
   "source": [
    "5. Create a set of prime numbers less than 50. Write a program to check whether a given number exists in the set or not."
   ]
  },
  {
   "cell_type": "code",
   "execution_count": 21,
   "id": "a117deab",
   "metadata": {},
   "outputs": [
    {
     "name": "stdout",
     "output_type": "stream",
     "text": [
      "Prime numbers less than 50: {2, 3, 5, 37, 7, 41, 11, 43, 13, 47, 17, 19, 23, 29, 31}\n",
      "9 is not in the prime number set.\n"
     ]
    }
   ],
   "source": [
    "# Create a set of prime numbers less than 50. Write a program to check whether a given number exists in the set or not.\n",
    "prime_set = set()\n",
    "\n",
    "for num in range(2, 50):\n",
    "    is_prime = True\n",
    "    for i in range(2, int(num ** 0.5) + 1):\n",
    "        if num % i == 0:\n",
    "            is_prime = False\n",
    "            break\n",
    "    if is_prime:\n",
    "        prime_set.add(num)\n",
    "\n",
    "print(\"Prime numbers less than 50:\", prime_set)\n",
    "\n",
    "check_num = int(input(\"Enter a number to check: \"))\n",
    "\n",
    "if check_num in prime_set:\n",
    "    print(f\"{check_num} is a prime number and exists in the set.\")\n",
    "else:\n",
    "    print(f\"{check_num} is not in the prime number set.\")"
   ]
  },
  {
   "cell_type": "markdown",
   "id": "0e2d1a85",
   "metadata": {},
   "source": [
    "6. Given two lists, write a program to find their intersection using sets."
   ]
  },
  {
   "cell_type": "code",
   "execution_count": 22,
   "id": "dff4c537",
   "metadata": {},
   "outputs": [
    {
     "name": "stdout",
     "output_type": "stream",
     "text": [
      "Intersection: [4, 5, 6]\n"
     ]
    }
   ],
   "source": [
    "# Given two lists, write a program to find their intersection using sets.\n",
    "list1 = [1, 2, 3, 4, 5, 6]\n",
    "list2 = [4, 5, 6, 7, 8, 9]\n",
    "intersection = list(set(list1) & set(list2))\n",
    "print(\"Intersection:\", intersection)"
   ]
  },
  {
   "cell_type": "markdown",
   "id": "cd433374",
   "metadata": {},
   "source": [
    "7. Write a Python program to merge two dictionaries and sum the values of common keys."
   ]
  },
  {
   "cell_type": "code",
   "execution_count": 23,
   "id": "99424639",
   "metadata": {},
   "outputs": [
    {
     "name": "stdout",
     "output_type": "stream",
     "text": [
      "Merged dictionary: {'a': 10, 'b': 35, 'c': 35, 'd': 40}\n"
     ]
    }
   ],
   "source": [
    "# Write a Python program to merge two dictionaries and sum the values of common keys.\n",
    "dict1 = {'a': 10, 'b': 20, 'c': 30}\n",
    "dict2 = {'b': 15, 'c': 5, 'd': 40}\n",
    "\n",
    "merged = dict1.copy() \n",
    "\n",
    "for key, value in dict2.items():\n",
    "    if key in merged:\n",
    "        merged[key] += value \n",
    "    else:\n",
    "        merged[key] = value\n",
    "\n",
    "print(\"Merged dictionary:\", merged)"
   ]
  },
  {
   "cell_type": "markdown",
   "id": "185da931",
   "metadata": {},
   "source": [
    "8. Given a list of names, write a program to count how many times each name appears using a dictionary."
   ]
  },
  {
   "cell_type": "code",
   "execution_count": 24,
   "id": "c7e926ea",
   "metadata": {},
   "outputs": [
    {
     "name": "stdout",
     "output_type": "stream",
     "text": [
      "Name counts: {'Alice': 3, 'Bob': 2, 'Eve': 1}\n"
     ]
    }
   ],
   "source": [
    "# Given a list of names, write a program to count how many times each name appears using a dictionary.\n",
    "names = [\"Alice\", \"Bob\", \"Alice\", \"Eve\", \"Bob\", \"Alice\"]\n",
    "\n",
    "count_dict = {}\n",
    "\n",
    "for name in names:\n",
    "    if name in count_dict:\n",
    "        count_dict[name] += 1\n",
    "    else:\n",
    "        count_dict[name] = 1\n",
    "\n",
    "print(\"Name counts:\", count_dict)"
   ]
  },
  {
   "cell_type": "markdown",
   "id": "d0064113",
   "metadata": {},
   "source": [
    "9. Write a Python program to remove elements from a list that are also present in another list."
   ]
  },
  {
   "cell_type": "code",
   "execution_count": 25,
   "id": "a074c9b3",
   "metadata": {},
   "outputs": [
    {
     "name": "stdout",
     "output_type": "stream",
     "text": [
      "List after removing common elements: [1, 3, 5]\n"
     ]
    }
   ],
   "source": [
    "# Write a Python program to remove elements from a list that are also present in another list.\n",
    "list1 = [1, 2, 3, 4, 5, 6]\n",
    "list2 = [2, 4, 6, 8]\n",
    "\n",
    "\n",
    "result = [item for item in list1 if item not in list2]\n",
    "\n",
    "print(\"List after removing common elements:\", result)"
   ]
  },
  {
   "cell_type": "markdown",
   "id": "f9da2e56",
   "metadata": {},
   "source": [
    "10. Write a program to input key-value pairs from the user and store them in a dictionary. Allow the user to search for a key and display its value."
   ]
  },
  {
   "cell_type": "code",
   "execution_count": 28,
   "id": "98aec781",
   "metadata": {},
   "outputs": [
    {
     "name": "stdout",
     "output_type": "stream",
     "text": [
      "Enter key-value pairs (type 'stop' as key to end):\n",
      "1 hello\n",
      "2 world\n",
      "3 ram\n",
      "4 shyam\n",
      "5 gita\n",
      "Value for '5': gita\n"
     ]
    }
   ],
   "source": [
    "# Write a program to input key-value pairs from the user and store them in a dictionary. Allow the user to search for a key and display its value.\n",
    "\n",
    "data = {}\n",
    "\n",
    "print(\"Enter key-value pairs (type 'stop' as key to end):\")\n",
    "\n",
    "while True:\n",
    "    key = input(\"Enter key: \")\n",
    "    if key.lower() == 'stop':\n",
    "        break\n",
    "    value = input(\"Enter value: \")\n",
    "    data[key] = value\n",
    "    print(key, value)\n",
    "\n",
    "search_key = input(\"Enter a key to search: \")\n",
    "\n",
    "if search_key in data:\n",
    "    print(f\"Value for '{search_key}': {data[search_key]}\")\n",
    "else:\n",
    "    print(f\"Key '{search_key}' not found.\")"
   ]
  }
 ],
 "metadata": {
  "kernelspec": {
   "display_name": "Python 3",
   "language": "python",
   "name": "python3"
  },
  "language_info": {
   "codemirror_mode": {
    "name": "ipython",
    "version": 3
   },
   "file_extension": ".py",
   "mimetype": "text/x-python",
   "name": "python",
   "nbconvert_exporter": "python",
   "pygments_lexer": "ipython3",
   "version": "3.13.5"
  }
 },
 "nbformat": 4,
 "nbformat_minor": 5
}
