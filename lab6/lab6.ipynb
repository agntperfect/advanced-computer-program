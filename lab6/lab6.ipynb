{
 "cells": [
  {
   "cell_type": "markdown",
   "id": "39f3e414",
   "metadata": {},
   "source": [
    "# Lab 6"
   ]
  },
  {
   "cell_type": "markdown",
   "id": "a4611b54",
   "metadata": {},
   "source": [
    "Define a class Student with attributes name, roll_number, and marks. Implement a method display_info() that prints the details of the student. Create an instance of Student and call the display_info() method to display the student's details."
   ]
  },
  {
   "cell_type": "code",
   "execution_count": 1,
   "id": "fdd54125",
   "metadata": {},
   "outputs": [
    {
     "name": "stdout",
     "output_type": "stream",
     "text": [
      "Student Details:\n",
      "Name: Abhishek Kharel\n",
      "Roll Number: 81BEL005\n",
      "Marks: 92\n"
     ]
    }
   ],
   "source": [
    "class Student:\n",
    "    def __init__(self, name, roll_number, marks):\n",
    "        self.name = name\n",
    "        self.roll_number = roll_number\n",
    "        self.marks = marks\n",
    "\n",
    "    def display_info(self):\n",
    "        print(\"Student Details:\")\n",
    "        print(f\"Name: {self.name}\")\n",
    "        print(f\"Roll Number: {self.roll_number}\")\n",
    "        print(f\"Marks: {self.marks}\")\n",
    "\n",
    "student1 = Student(\"Abhishek Kharel\", \"81BEL005\", 92)\n",
    "student1.display_info()"
   ]
  },
  {
   "cell_type": "markdown",
   "id": "3b6e83cf",
   "metadata": {},
   "source": [
    "Create a base class Animal with a method speak() that prints \"Animal makes a sound\". Derive a class Dog from Animal and override the speak() method to print \"Dog barks\". Instantiate the Dog class and call its speak() method."
   ]
  },
  {
   "cell_type": "code",
   "execution_count": 2,
   "id": "b7dc1277",
   "metadata": {},
   "outputs": [
    {
     "name": "stdout",
     "output_type": "stream",
     "text": [
      "Dog barks\n"
     ]
    }
   ],
   "source": [
    "class Animal:\n",
    "    def speak(self):\n",
    "        print(\"Animal makes a sound\")\n",
    "class Dog(Animal):\n",
    "    def speak(self):\n",
    "        print(\"Dog barks\")\n",
    "dog1 = Dog()\n",
    "dog1.speak()"
   ]
  },
  {
   "cell_type": "markdown",
   "id": "a6d7c595",
   "metadata": {},
   "source": [
    "Define a class BankAccount with private attributes account_number and balance. Implement methods to deposit and withdraw money, ensuring that the balance cannot go below zero. Provide a method to get the account details. Test the class by performing deposit and withdrawal operations."
   ]
  },
  {
   "cell_type": "code",
   "execution_count": 3,
   "id": "a58f775e",
   "metadata": {},
   "outputs": [
    {
     "name": "stdout",
     "output_type": "stream",
     "text": [
      "Account Number: 123456789, Balance: 1000\n",
      "Deposited: 500. New balance = 1500\n",
      "Withdrew: 200. New balance = 1300\n",
      "Insufficient balance or invalid amount!\n",
      "Account Number: 123456789, Balance: 1300\n"
     ]
    }
   ],
   "source": [
    "class BankAccount:\n",
    "    def __init__(self, account_number, balance=0):\n",
    "        self.__account_number = account_number  \n",
    "        self.__balance = balance                \n",
    "    def deposit(self, amount):\n",
    "        if amount > 0:\n",
    "            self.__balance += amount\n",
    "            print(f\"Deposited: {amount}. New balance = {self.__balance}\")\n",
    "        else:\n",
    "            print(\"Deposit amount must be positive!\")\n",
    "\n",
    "    def withdraw(self, amount):\n",
    "        if 0 < amount <= self.__balance:\n",
    "            self.__balance -= amount\n",
    "            print(f\"Withdrew: {amount}. New balance = {self.__balance}\")\n",
    "        else:\n",
    "            print(\"Insufficient balance or invalid amount!\")\n",
    "\n",
    "    def get_account_details(self):\n",
    "        return f\"Account Number: {self.__account_number}, Balance: {self.__balance}\"\n",
    "\n",
    "account1 = BankAccount(\"123456789\", 1000)\n",
    "\n",
    "print(account1.get_account_details())   \n",
    "account1.deposit(500)                   \n",
    "account1.withdraw(200)                  \n",
    "account1.withdraw(2000)\n",
    "print(account1.get_account_details())   "
   ]
  },
  {
   "cell_type": "markdown",
   "id": "e49716dd",
   "metadata": {},
   "source": [
    "Create a base class Shape with a method area(). Derive two classes Rectangle and Circle from Shape. Implement the area() method in both derived classes. Instantiate Rectangle and Circle, and demonstrate polymorphism by calling their area() methods."
   ]
  },
  {
   "cell_type": "code",
   "execution_count": 4,
   "id": "0797c1f1",
   "metadata": {},
   "outputs": [
    {
     "name": "stdout",
     "output_type": "stream",
     "text": [
      "Rectangle area = 15\n",
      "Circle area = 50.26548245743669\n"
     ]
    }
   ],
   "source": [
    "import math\n",
    "class Shape:\n",
    "    def area(self):\n",
    "        print(\"Area method not implemented in base class\")\n",
    "\n",
    "class Rectangle(Shape):\n",
    "    def __init__(self, length, width):\n",
    "        self.length = length\n",
    "        self.width = width\n",
    "\n",
    "    def area(self):\n",
    "        return self.length * self.width\n",
    "\n",
    "class Circle(Shape):\n",
    "    def __init__(self, radius):\n",
    "        self.radius = radius\n",
    "\n",
    "    def area(self):\n",
    "        return math.pi * self.radius * self.radius\n",
    "\n",
    "\n",
    "shapes = [Rectangle(5, 3), Circle(4)] \n",
    "for s in shapes:\n",
    "    print(f\"{s.__class__.__name__} area = {s.area()}\")"
   ]
  },
  {
   "cell_type": "markdown",
   "id": "e389bd86",
   "metadata": {},
   "source": [
    "Define a class Person with attributes name and age. Derive a class Employee from Person with additional attributes employee_id and salary. Implement a method display_employee() in Employee that prints all the details. Create an instance of Employee and display the information."
   ]
  },
  {
   "cell_type": "code",
   "execution_count": 5,
   "id": "e97a400c",
   "metadata": {},
   "outputs": [
    {
     "name": "stdout",
     "output_type": "stream",
     "text": [
      "Name: Abhishek\n",
      "Age: 22\n",
      "Employee ID: E123\n",
      "Salary: 50000\n"
     ]
    }
   ],
   "source": [
    "class Person:\n",
    "    def __init__(self, name, age):\n",
    "        self.name = name\n",
    "        self.age = age\n",
    "\n",
    "class Employee(Person):\n",
    "    def __init__(self, name, age, employee_id, salary):\n",
    "        super().__init__(name, age)\n",
    "        self.employee_id = employee_id\n",
    "        self.salary = salary\n",
    "\n",
    "    def display_employee(self):\n",
    "        print(f\"Name: {self.name}\")\n",
    "        print(f\"Age: {self.age}\")\n",
    "        print(f\"Employee ID: {self.employee_id}\")\n",
    "        print(f\"Salary: {self.salary}\")\n",
    "\n",
    "\n",
    "emp1 = Employee(\"Abhishek\", 22, \"E123\", 50000)\n",
    "emp1.display_employee()"
   ]
  },
  {
   "cell_type": "markdown",
   "id": "fe772a9d",
   "metadata": {},
   "source": [
    "Define a class Vector with attributes x and y. Overload the + operator to add two Vector objects. Implement the __add__() method and test it by adding two Vector instances."
   ]
  },
  {
   "cell_type": "code",
   "execution_count": 6,
   "id": "48e8cb14",
   "metadata": {},
   "outputs": [
    {
     "name": "stdout",
     "output_type": "stream",
     "text": [
      "v1 = Vector(3, 4)\n",
      "v2 = Vector(1, 2)\n",
      "v1 + v2 = Vector(4, 6)\n"
     ]
    }
   ],
   "source": [
    "class Vector:\n",
    "    def __init__(self, x, y):\n",
    "        self.x = x\n",
    "        self.y = y\n",
    "    def __add__(self, other):\n",
    "        return Vector(self.x + other.x, self.y + other.y)\n",
    "    def __str__(self):\n",
    "        return f\"Vector({self.x}, {self.y})\"\n",
    "\n",
    "v1 = Vector(3, 4)\n",
    "v2 = Vector(1, 2)\n",
    "\n",
    "v3 = v1 + v2\n",
    "\n",
    "print(\"v1 =\", v1)\n",
    "print(\"v2 =\", v2)\n",
    "print(\"v1 + v2 =\", v3)"
   ]
  },
  {
   "cell_type": "markdown",
   "id": "37ecca0b",
   "metadata": {},
   "source": [
    "Create a class Book with attributes title and author. Overload the __str__() method to return a string representation of the Book object in the format \"Title by Author\". Test this method by printing a Book instance."
   ]
  },
  {
   "cell_type": "code",
   "execution_count": 7,
   "id": "b97e5635",
   "metadata": {},
   "outputs": [
    {
     "name": "stdout",
     "output_type": "stream",
     "text": [
      "\"Python Basics\" by John Doe\n",
      "\"OOP in Depth\" by Jane Smith\n"
     ]
    }
   ],
   "source": [
    "class Book:\n",
    "    def __init__(self, title, author):\n",
    "        self.title = title\n",
    "        self.author = author\n",
    "\n",
    "    def __str__(self):\n",
    "        return f'\"{self.title}\" by {self.author}'\n",
    "\n",
    "\n",
    "book1 = Book(\"Python Basics\", \"John Doe\")\n",
    "book2 = Book(\"OOP in Depth\", \"Jane Smith\")\n",
    "\n",
    "print(book1) \n",
    "print(book2)"
   ]
  },
  {
   "cell_type": "markdown",
   "id": "9afbba91",
   "metadata": {},
   "source": [
    "Define a class Time with attributes hours, minutes, and seconds. Overload the == operator to compare two Time objects for equality. Implement the __eq__() method and test it by comparing two Time instances."
   ]
  },
  {
   "cell_type": "code",
   "execution_count": 8,
   "id": "f58022a4",
   "metadata": {},
   "outputs": [
    {
     "name": "stdout",
     "output_type": "stream",
     "text": [
      "t1 = 10:30:15\n",
      "t2 = 10:30:15\n",
      "t3 = 12:45:00\n",
      "t1 == t2 ? True\n",
      "t1 == t3 ? False\n"
     ]
    }
   ],
   "source": [
    "class Time:\n",
    "    def __init__(self, hours, minutes, seconds):\n",
    "        self.hours = hours\n",
    "        self.minutes = minutes\n",
    "        self.seconds = seconds\n",
    "\n",
    "    def __eq__(self, other):\n",
    "        return (self.hours == other.hours and\n",
    "                self.minutes == other.minutes and\n",
    "                self.seconds == other.seconds)\n",
    "\n",
    "    def __str__(self):\n",
    "        return f\"{self.hours:02d}:{self.minutes:02d}:{self.seconds:02d}\"\n",
    "\n",
    "\n",
    "t1 = Time(10, 30, 15)\n",
    "t2 = Time(10, 30, 15)\n",
    "t3 = Time(12, 45, 0)\n",
    "\n",
    "print(f\"t1 = {t1}\")\n",
    "print(f\"t2 = {t2}\")\n",
    "print(f\"t3 = {t3}\")\n",
    "\n",
    "print(\"t1 == t2 ?\", t1 == t2)\n",
    "print(\"t1 == t3 ?\", t1 == t3)"
   ]
  },
  {
   "cell_type": "markdown",
   "id": "3392790d",
   "metadata": {},
   "source": [
    "Define a class Person with attributes name and age. Define another class Address with attributes street, city, and zipcode. Create a Contact class that contains an instance of Person and Address. Implement methods to display the contact details. Create a Contact object and display its information."
   ]
  },
  {
   "cell_type": "code",
   "execution_count": 9,
   "id": "9c1d7277",
   "metadata": {},
   "outputs": [
    {
     "name": "stdout",
     "output_type": "stream",
     "text": [
      "Contact Details:\n",
      "Name: Abhishek Kharel\n",
      "Age: 20\n",
      "Street: Old Baneshwor\n",
      "City: Kathmandu\n",
      "Zipcode: 44600\n"
     ]
    }
   ],
   "source": [
    "class Person:\n",
    "    def __init__(self, name, age):\n",
    "        self.name = name\n",
    "        self.age = age\n",
    "class Address:\n",
    "    def __init__(self, street, city, zipcode):\n",
    "        self.street = street\n",
    "        self.city = city\n",
    "        self.zipcode = zipcode\n",
    "class Contact:\n",
    "    def __init__(self, person, address):\n",
    "        self.person = person\n",
    "        self.address = address\n",
    "\n",
    "    def display_contact(self):\n",
    "        print(\"Contact Details:\")\n",
    "        print(f\"Name: {self.person.name}\")\n",
    "        print(f\"Age: {self.person.age}\")\n",
    "        print(f\"Street: {self.address.street}\")\n",
    "        print(f\"City: {self.address.city}\")\n",
    "        print(f\"Zipcode: {self.address.zipcode}\")\n",
    "\n",
    "p = Person(\"Abhishek Kharel\", 20)\n",
    "a = Address(\"Old Baneshwor\", \"Kathmandu\", \"44600\")\n",
    "\n",
    "contact1 = Contact(p, a)\n",
    "contact1.display_contact()\n"
   ]
  }
 ],
 "metadata": {
  "kernelspec": {
   "display_name": ".venv",
   "language": "python",
   "name": "python3"
  },
  "language_info": {
   "codemirror_mode": {
    "name": "ipython",
    "version": 3
   },
   "file_extension": ".py",
   "mimetype": "text/x-python",
   "name": "python",
   "nbconvert_exporter": "python",
   "pygments_lexer": "ipython3",
   "version": "3.12.3"
  }
 },
 "nbformat": 4,
 "nbformat_minor": 5
}
