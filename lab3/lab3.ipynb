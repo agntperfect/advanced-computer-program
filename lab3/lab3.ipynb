{
 "cells": [
  {
   "cell_type": "markdown",
   "id": "01ed7c79",
   "metadata": {},
   "source": [
    "# Lab 3"
   ]
  },
  {
   "cell_type": "markdown",
   "id": "6589e044",
   "metadata": {},
   "source": [
    "## Functional Programming"
   ]
  },
  {
   "cell_type": "markdown",
   "id": "c51d81bf",
   "metadata": {},
   "source": [
    "1. Write a Python function named greet_user that takes a user's name and prints:"
   ]
  },
  {
   "cell_type": "code",
   "execution_count": 56,
   "id": "4430ecdc",
   "metadata": {},
   "outputs": [
    {
     "name": "stdout",
     "output_type": "stream",
     "text": [
      "Hello, Abhishek! Welcome!\n"
     ]
    }
   ],
   "source": [
    "def greet_user(name):\n",
    "    print(f\"Hello, {name}! Welcome!\")\n",
    "\n",
    "greet_user(\"Abhishek\")"
   ]
  },
  {
   "cell_type": "markdown",
   "id": "1066e4c2",
   "metadata": {},
   "source": [
    "2. Hello, <name>! Welcome to Python. Call the function with a sample name."
   ]
  },
  {
   "cell_type": "code",
   "execution_count": 57,
   "id": "9a2895b1",
   "metadata": {},
   "outputs": [
    {
     "name": "stdout",
     "output_type": "stream",
     "text": [
      "Hello, Abhishek! Welcome to Python.\n"
     ]
    }
   ],
   "source": [
    "def greet_user(name):\n",
    "    print(f\"Hello, {name}! Welcome to Python.\")\n",
    "\n",
    "greet_user(\"Abhishek\")"
   ]
  },
  {
   "cell_type": "markdown",
   "id": "768964b0",
   "metadata": {},
   "source": [
    "3. Create a function power(base, exponent=2) that returns the result of base raised to the power of exponent.Demonstrate it with and without the exponent argument."
   ]
  },
  {
   "cell_type": "code",
   "execution_count": 58,
   "id": "224711d6",
   "metadata": {},
   "outputs": [
    {
     "name": "stdout",
     "output_type": "stream",
     "text": [
      "5 squared = 25\n",
      "2 raised to 3 = 8\n"
     ]
    }
   ],
   "source": [
    "def power(base, exponent=2):\n",
    "    return base ** exponent\n",
    "\n",
    "result1 = power(5)\n",
    "print(f\"5 squared = {result1}\")\n",
    "\n",
    "result2 = power(2, 3)\n",
    "print(f\"2 raised to 3 = {result2}\")"
   ]
  },
  {
   "cell_type": "markdown",
   "id": "c2c98834",
   "metadata": {},
   "source": [
    "4. Write a function book_info(title, author, year) that prints book details.Call the function using keyword arguments in different orders."
   ]
  },
  {
   "cell_type": "code",
   "execution_count": 59,
   "id": "f0d815ff",
   "metadata": {},
   "outputs": [
    {
     "name": "stdout",
     "output_type": "stream",
     "text": [
      "Title: Python Basics\n",
      "Author: John Doe\n",
      "Year: 2022\n",
      "\n",
      "Title: Advanced Python\n",
      "Author: Jane Smith\n",
      "Year: 2021\n"
     ]
    }
   ],
   "source": [
    "def book_info(title, author, year):\n",
    "    print(f\"Title: {title}\")\n",
    "    print(f\"Author: {author}\")\n",
    "    print(f\"Year: {year}\")\n",
    "\n",
    "book_info(title=\"Python Basics\", author=\"John Doe\", year=2022)\n",
    "\n",
    "print()\n",
    "\n",
    "book_info(year=2021, title=\"Advanced Python\", author=\"Jane Smith\")"
   ]
  },
  {
   "cell_type": "markdown",
   "id": "afc9fecc",
   "metadata": {},
   "source": [
    "5. Create a function sum_numbers(*args) that accepts any number of numeric arguments and returns their sum.Test it with 2, 3, and 5 numbers."
   ]
  },
  {
   "cell_type": "code",
   "execution_count": 60,
   "id": "47eec4d1",
   "metadata": {},
   "outputs": [
    {
     "name": "stdout",
     "output_type": "stream",
     "text": [
      "Sum of 2 numbers: 30\n",
      "Sum of 3 numbers: 30\n",
      "Sum of 5 numbers: 15\n"
     ]
    }
   ],
   "source": [
    "def sum_numbers(*args):\n",
    "    return sum(args)\n",
    "\n",
    "print(\"Sum of 2 numbers:\", sum_numbers(10, 20))\n",
    "print(\"Sum of 3 numbers:\", sum_numbers(5, 10, 15))\n",
    "print(\"Sum of 5 numbers:\", sum_numbers(1, 2, 3, 4, 5))"
   ]
  },
  {
   "cell_type": "markdown",
   "id": "5ee7afb6",
   "metadata": {},
   "source": [
    "6. Write a function student_profile(**kwargs) that prints the key-value pairs passed (e.g., name, age, grade). Call it with at least three named arguments."
   ]
  },
  {
   "cell_type": "code",
   "execution_count": 61,
   "id": "8cf2135d",
   "metadata": {},
   "outputs": [
    {
     "name": "stdout",
     "output_type": "stream",
     "text": [
      "Student Profile:\n",
      "name: Abhishek\n",
      "age: 20\n",
      "grade: A+\n"
     ]
    }
   ],
   "source": [
    "def student_profile(**kwargs):\n",
    "    print(\"Student Profile:\")\n",
    "    for key, value in kwargs.items():\n",
    "        print(f\"{key}: {value}\")\n",
    "\n",
    "student_profile(name=\"Abhishek\", age=20, grade=\"A+\")"
   ]
  },
  {
   "cell_type": "markdown",
   "id": "e10355f8",
   "metadata": {},
   "source": [
    "7. Write a lambda function to compute the square of a number.Use it to compute the square of 5 and 12."
   ]
  },
  {
   "cell_type": "code",
   "execution_count": 62,
   "id": "01c69cb9",
   "metadata": {},
   "outputs": [
    {
     "name": "stdout",
     "output_type": "stream",
     "text": [
      "Square of 5: 25\n",
      "Square of 12: 144\n"
     ]
    }
   ],
   "source": [
    "square = lambda x: x ** 2\n",
    "\n",
    "print(\"Square of 5:\", square(5))\n",
    "print(\"Square of 12:\", square(12))"
   ]
  },
  {
   "cell_type": "markdown",
   "id": "1a599a02",
   "metadata": {},
   "source": [
    "8. Given a list of numbers [1, 2, 3, 4, 5], use map() and a lambda function to return a new list with each number doubled."
   ]
  },
  {
   "cell_type": "code",
   "execution_count": 63,
   "id": "3db10df5",
   "metadata": {},
   "outputs": [
    {
     "name": "stdout",
     "output_type": "stream",
     "text": [
      "[2, 4, 6, 8, 10]\n"
     ]
    }
   ],
   "source": [
    "numbers = [1, 2, 3, 4, 5]\n",
    "doubled_numbers = list(map(lambda x: x * 2, numbers))\n",
    "print(doubled_numbers)"
   ]
  },
  {
   "cell_type": "markdown",
   "id": "b8fc87b9",
   "metadata": {},
   "source": [
    "9. Given a list [10, 15, 20, 25, 30], use filter() and a lambda function to extract numbers divisible by 10."
   ]
  },
  {
   "cell_type": "code",
   "execution_count": 64,
   "id": "0bf4f936",
   "metadata": {},
   "outputs": [
    {
     "name": "stdout",
     "output_type": "stream",
     "text": [
      "[10, 20, 30]\n"
     ]
    }
   ],
   "source": [
    "numbers = [10, 15, 20, 25, 30]\n",
    "divisible_by_10 = list(filter(lambda x: x % 10 == 0, numbers))\n",
    "print(divisible_by_10)"
   ]
  },
  {
   "cell_type": "markdown",
   "id": "c3de2b17",
   "metadata": {},
   "source": [
    "Given a list of temperatures in Celsius [36.5, 37.0, 39.2, 35.6, 38.7],convert them to Fahrenheit using map(),Filter out those above 100°F using filter()."
   ]
  },
  {
   "cell_type": "code",
   "execution_count": 65,
   "id": "e3bbeb08",
   "metadata": {},
   "outputs": [
    {
     "name": "stdout",
     "output_type": "stream",
     "text": [
      "Temperatures in Fahrenheit: [97.7, 98.6, 102.56, 96.08000000000001, 101.66]\n",
      "Temperatures above 100°F: [102.56, 101.66]\n"
     ]
    }
   ],
   "source": [
    "celsius = [36.5, 37.0, 39.2, 35.6, 38.7]\n",
    "fahrenheit = list(map(lambda c: (c * 9/5) + 32, celsius))\n",
    "high_temps = list(filter(lambda f: f > 100, fahrenheit))\n",
    "print(\"Temperatures in Fahrenheit:\", fahrenheit)\n",
    "print(\"Temperatures above 100°F:\", high_temps)"
   ]
  },
  {
   "cell_type": "markdown",
   "id": "ec0cc55f",
   "metadata": {},
   "source": [
    "## Mini Project"
   ]
  },
  {
   "cell_type": "markdown",
   "id": "56ae64d1",
   "metadata": {},
   "source": [
    "Simple To-Do Manager Using Functional Programming\n",
    "Objective: Manage a list of to-do tasks using functions, lambda, filter, and map.\n",
    "Requirements:\n",
    "- Allow adding tasks using a function add_task(task_list, task_name).\n",
    "- Each task is a dictionary: { \"name\": str, \"completed\": bool }.\n",
    "- Use lambda and filter() to list only incomplete tasks.\n",
    "- Use map() to mark all tasks as completed.\n",
    "- Include a search_tasks(task_list, keyword) function using filter() and lambda.\n",
    "\n",
    "```python\n",
    "Sample Workflow:\n",
    "tasks = []\n",
    "tasks = add_task(tasks, \"Buy groceries\")\n",
    "tasks = add_task(tasks, \"Finish assignment\")\n",
    "tasks = add_task(tasks, \"Call friend\")\n",
    "# List incomplete tasks\n",
    "print(\"Pending Tasks:\", list_pending(tasks))\n",
    "```"
   ]
  },
  {
   "cell_type": "code",
   "execution_count": 66,
   "id": "ec577fd4",
   "metadata": {},
   "outputs": [
    {
     "name": "stdout",
     "output_type": "stream",
     "text": [
      "Pending Tasks: [{'name': 'Buy groceries', 'completed': False}, {'name': 'Finish assignment', 'completed': False}, {'name': 'Call friend', 'completed': False}]\n",
      "All tasks after marking complete: [{'name': 'Buy groceries', 'completed': True}, {'name': 'Finish assignment', 'completed': True}, {'name': 'Call friend', 'completed': True}]\n",
      "Search Result for 'call': [{'name': 'Call friend', 'completed': True}]\n"
     ]
    }
   ],
   "source": [
    "def add_task(task_list, task_name):\n",
    "    task = {\"name\": task_name, \"completed\": False}\n",
    "    return task_list + [task]\n",
    "\n",
    "def list_pending(task_list):\n",
    "    return list(filter(lambda t: not t[\"completed\"], task_list))\n",
    "\n",
    "def complete_all(task_list):\n",
    "    return list(map(lambda t: {**t, \"completed\": True}, task_list))\n",
    "\n",
    "def search_tasks(task_list, keyword):\n",
    "    return list(filter(lambda t: keyword.lower() in t[\"name\"].lower(), task_list))\n",
    "\n",
    "tasks = []\n",
    "tasks = add_task(tasks, \"Buy groceries\")\n",
    "tasks = add_task(tasks, \"Finish assignment\")\n",
    "tasks = add_task(tasks, \"Call friend\")\n",
    "\n",
    "print(\"Pending Tasks:\", list_pending(tasks))\n",
    "\n",
    "tasks = complete_all(tasks)\n",
    "print(\"All tasks after marking complete:\", tasks)\n",
    "\n",
    "print(\"Search Result for 'call':\", search_tasks(tasks, \"call\"))"
   ]
  }
 ],
 "metadata": {
  "kernelspec": {
   "display_name": ".venv",
   "language": "python",
   "name": "python3"
  },
  "language_info": {
   "codemirror_mode": {
    "name": "ipython",
    "version": 3
   },
   "file_extension": ".py",
   "mimetype": "text/x-python",
   "name": "python",
   "nbconvert_exporter": "python",
   "pygments_lexer": "ipython3",
   "version": "3.12.3"
  }
 },
 "nbformat": 4,
 "nbformat_minor": 5
}
